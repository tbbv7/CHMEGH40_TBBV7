{
 "cells": [
  {
   "cell_type": "markdown",
   "metadata": {},
   "source": [
    "# Machine Learning in Healthcare and Biomedicine\n",
    "Module code: CHMEGH96\n",
    "\n",
    "Candidate No.: TBBV7"
   ]
  },
  {
   "cell_type": "markdown",
   "metadata": {},
   "source": [
    "Dataset: Heart Disease Dataset (Cleveland) \n",
    "\n",
    "Data source:\n",
    "V.A. Medical Center, Long Beach and Cleveland Clinic Foundation:Robert Detrano, M.D., Ph.D."
   ]
  },
  {
   "cell_type": "code",
   "execution_count": 1,
   "metadata": {
    "collapsed": true
   },
   "outputs": [],
   "source": [
    "#basic prepartories\n",
    "%matplotlib inline \n",
    "import numpy as np\n",
    "import pandas as pd\n",
    "import matplotlib.pyplot as plt\n",
    "\n",
    "\n"
   ]
  },
  {
   "cell_type": "markdown",
   "metadata": {},
   "source": [
    "# Dataset\n",
    "\n"
   ]
  },
  {
   "cell_type": "code",
   "execution_count": 2,
   "metadata": {},
   "outputs": [
    {
     "data": {
      "text/html": [
       "<div>\n",
       "<style>\n",
       "    .dataframe thead tr:only-child th {\n",
       "        text-align: right;\n",
       "    }\n",
       "\n",
       "    .dataframe thead th {\n",
       "        text-align: left;\n",
       "    }\n",
       "\n",
       "    .dataframe tbody tr th {\n",
       "        vertical-align: top;\n",
       "    }\n",
       "</style>\n",
       "<table border=\"1\" class=\"dataframe\">\n",
       "  <thead>\n",
       "    <tr style=\"text-align: right;\">\n",
       "      <th></th>\n",
       "      <th>age</th>\n",
       "      <th>sex</th>\n",
       "      <th>cp</th>\n",
       "      <th>trestbp</th>\n",
       "      <th>chol</th>\n",
       "      <th>fbs</th>\n",
       "      <th>restecg</th>\n",
       "      <th>thalach</th>\n",
       "      <th>exang</th>\n",
       "      <th>oldpeak</th>\n",
       "      <th>slope</th>\n",
       "      <th>ca</th>\n",
       "      <th>thal</th>\n",
       "      <th>class_label</th>\n",
       "    </tr>\n",
       "  </thead>\n",
       "  <tbody>\n",
       "    <tr>\n",
       "      <th>0</th>\n",
       "      <td>63.0</td>\n",
       "      <td>1.0</td>\n",
       "      <td>1.0</td>\n",
       "      <td>145.0</td>\n",
       "      <td>233.0</td>\n",
       "      <td>1.0</td>\n",
       "      <td>2.0</td>\n",
       "      <td>150.0</td>\n",
       "      <td>0.0</td>\n",
       "      <td>2.3</td>\n",
       "      <td>3.0</td>\n",
       "      <td>0.0</td>\n",
       "      <td>6.0</td>\n",
       "      <td>0</td>\n",
       "    </tr>\n",
       "    <tr>\n",
       "      <th>1</th>\n",
       "      <td>67.0</td>\n",
       "      <td>1.0</td>\n",
       "      <td>4.0</td>\n",
       "      <td>160.0</td>\n",
       "      <td>286.0</td>\n",
       "      <td>0.0</td>\n",
       "      <td>2.0</td>\n",
       "      <td>108.0</td>\n",
       "      <td>1.0</td>\n",
       "      <td>1.5</td>\n",
       "      <td>2.0</td>\n",
       "      <td>3.0</td>\n",
       "      <td>3.0</td>\n",
       "      <td>2</td>\n",
       "    </tr>\n",
       "    <tr>\n",
       "      <th>2</th>\n",
       "      <td>67.0</td>\n",
       "      <td>1.0</td>\n",
       "      <td>4.0</td>\n",
       "      <td>120.0</td>\n",
       "      <td>229.0</td>\n",
       "      <td>0.0</td>\n",
       "      <td>2.0</td>\n",
       "      <td>129.0</td>\n",
       "      <td>1.0</td>\n",
       "      <td>2.6</td>\n",
       "      <td>2.0</td>\n",
       "      <td>2.0</td>\n",
       "      <td>7.0</td>\n",
       "      <td>1</td>\n",
       "    </tr>\n",
       "    <tr>\n",
       "      <th>3</th>\n",
       "      <td>37.0</td>\n",
       "      <td>1.0</td>\n",
       "      <td>3.0</td>\n",
       "      <td>130.0</td>\n",
       "      <td>250.0</td>\n",
       "      <td>0.0</td>\n",
       "      <td>0.0</td>\n",
       "      <td>187.0</td>\n",
       "      <td>0.0</td>\n",
       "      <td>3.5</td>\n",
       "      <td>3.0</td>\n",
       "      <td>0.0</td>\n",
       "      <td>3.0</td>\n",
       "      <td>0</td>\n",
       "    </tr>\n",
       "    <tr>\n",
       "      <th>4</th>\n",
       "      <td>41.0</td>\n",
       "      <td>0.0</td>\n",
       "      <td>2.0</td>\n",
       "      <td>130.0</td>\n",
       "      <td>204.0</td>\n",
       "      <td>0.0</td>\n",
       "      <td>2.0</td>\n",
       "      <td>172.0</td>\n",
       "      <td>0.0</td>\n",
       "      <td>1.4</td>\n",
       "      <td>1.0</td>\n",
       "      <td>0.0</td>\n",
       "      <td>3.0</td>\n",
       "      <td>0</td>\n",
       "    </tr>\n",
       "  </tbody>\n",
       "</table>\n",
       "</div>"
      ],
      "text/plain": [
       "    age  sex   cp  trestbp   chol  fbs  restecg  thalach  exang  oldpeak  \\\n",
       "0  63.0  1.0  1.0    145.0  233.0  1.0      2.0    150.0    0.0      2.3   \n",
       "1  67.0  1.0  4.0    160.0  286.0  0.0      2.0    108.0    1.0      1.5   \n",
       "2  67.0  1.0  4.0    120.0  229.0  0.0      2.0    129.0    1.0      2.6   \n",
       "3  37.0  1.0  3.0    130.0  250.0  0.0      0.0    187.0    0.0      3.5   \n",
       "4  41.0  0.0  2.0    130.0  204.0  0.0      2.0    172.0    0.0      1.4   \n",
       "\n",
       "   slope   ca thal  class_label  \n",
       "0    3.0  0.0  6.0            0  \n",
       "1    2.0  3.0  3.0            2  \n",
       "2    2.0  2.0  7.0            1  \n",
       "3    3.0  0.0  3.0            0  \n",
       "4    1.0  0.0  3.0            0  "
      ]
     },
     "execution_count": 2,
     "metadata": {},
     "output_type": "execute_result"
    }
   ],
   "source": [
    "#Cleveland dataset importation\n",
    "url = 'https://archive.ics.uci.edu/ml/machine-learning-databases/heart-disease/processed.cleveland.data'\n",
    "labels = ['age','sex','cp','trestbp','chol', 'fbs', 'restecg', 'thalach', 'exang', 'oldpeak', 'slope', 'ca','thal', 'class_label']\n",
    "heart = pd.read_csv(url, header=None, names=labels, index_col=False)\n",
    "heart.head()"
   ]
  },
  {
   "cell_type": "code",
   "execution_count": 3,
   "metadata": {},
   "outputs": [
    {
     "data": {
      "text/plain": [
       "age            float64\n",
       "sex            float64\n",
       "cp             float64\n",
       "trestbp        float64\n",
       "chol           float64\n",
       "fbs            float64\n",
       "restecg        float64\n",
       "thalach        float64\n",
       "exang          float64\n",
       "oldpeak        float64\n",
       "slope          float64\n",
       "ca              object\n",
       "thal            object\n",
       "class_label      int64\n",
       "dtype: object"
      ]
     },
     "execution_count": 3,
     "metadata": {},
     "output_type": "execute_result"
    }
   ],
   "source": [
    "heart.dtypes"
   ]
  },
  {
   "cell_type": "code",
   "execution_count": 4,
   "metadata": {
    "collapsed": true
   },
   "outputs": [],
   "source": [
    "#group class_label values >= 1 into value = 1 \n",
    "heart['class_label'] = heart['class_label'].replace([ 2, 3, 4], 1)"
   ]
  },
  {
   "cell_type": "code",
   "execution_count": 5,
   "metadata": {
    "collapsed": true
   },
   "outputs": [],
   "source": [
    "#convert ca and thal from str to numeric for statistical analysis \n",
    "heart['ca'] = pd.to_numeric(heart['ca'], errors='coerce')\n",
    "heart['thal'] = pd.to_numeric(heart['thal'], errors='coerce')"
   ]
  },
  {
   "cell_type": "markdown",
   "metadata": {},
   "source": [
    "# Introduction"
   ]
  },
  {
   "cell_type": "code",
   "execution_count": 6,
   "metadata": {},
   "outputs": [
    {
     "data": {
      "text/plain": [
       "array([0, 1, 1, 0, 0, 0, 1, 0, 1, 1, 0, 0, 1, 0, 0, 0, 1, 0, 0, 0, 0, 0, 1,\n",
       "       1, 1, 0, 0, 0, 0, 1, 0, 1, 1, 0, 0, 0, 1, 1, 1, 0, 1, 0, 0, 0, 1, 1,\n",
       "       0, 1, 0, 0, 0, 0, 1, 0, 1, 1, 1, 1, 0, 0, 1, 0, 1, 0, 1, 1, 1, 0, 1,\n",
       "       1, 0, 1, 1, 1, 1, 0, 1, 0, 0, 1, 0, 0, 0, 1, 0, 0, 0, 0, 0, 0, 0, 1,\n",
       "       0, 0, 0, 1, 1, 1, 0, 0, 0, 0, 0, 0, 1, 0, 1, 1, 1, 1, 1, 1, 0, 1, 1,\n",
       "       0, 0, 0, 1, 1, 1, 1, 0, 1, 1, 0, 1, 1, 0, 0, 0, 0, 0, 0, 0, 0, 1, 1,\n",
       "       1, 0, 0, 1, 0, 1, 0, 1, 1, 0, 0, 0, 0, 0, 0, 1, 1, 1, 1, 1, 1, 0, 0,\n",
       "       1, 0, 0, 0, 0, 0, 0, 1, 0, 1, 0, 1, 0, 1, 1, 0, 1, 0, 0, 1, 1, 0, 0,\n",
       "       1, 0, 0, 1, 1, 1, 0, 1, 1, 1, 0, 1, 0, 0, 0, 1, 0, 0, 0, 0, 0, 1, 1,\n",
       "       1, 0, 1, 0, 1, 0, 1, 1, 0, 0, 0, 0, 0, 0, 0, 0, 1, 1, 0, 0, 0, 1, 1,\n",
       "       0, 1, 1, 0, 0, 1, 1, 1, 0, 0, 0, 0, 0, 1, 0, 1, 1, 1, 1, 0, 0, 1, 0,\n",
       "       0, 0, 0, 0, 0, 0, 1, 0, 1, 0, 0, 1, 1, 1, 1, 1, 0, 1, 0, 1, 0, 1, 0,\n",
       "       0, 0, 1, 0, 1, 0, 1, 0, 1, 1, 1, 0, 0, 0, 1, 0, 1, 1, 1, 0, 1, 1, 1,\n",
       "       1, 1, 1, 0])"
      ]
     },
     "execution_count": 6,
     "metadata": {},
     "output_type": "execute_result"
    }
   ],
   "source": [
    "#split df into class label and features\n",
    "X = np.array(heart.iloc[:,0:13].values) # features \n",
    "y = np.array(heart.iloc[:,13].values) # class label\n",
    "y.astype(int)\n"
   ]
  },
  {
   "cell_type": "markdown",
   "metadata": {},
   "source": [
    "# Descriptive statistics"
   ]
  },
  {
   "cell_type": "code",
   "execution_count": 246,
   "metadata": {
    "scrolled": true
   },
   "outputs": [
    {
     "data": {
      "text/plain": [
       "0    164\n",
       "1    139\n",
       "Name: class_label, dtype: int64"
      ]
     },
     "execution_count": 246,
     "metadata": {},
     "output_type": "execute_result"
    }
   ],
   "source": [
    "#count classes\n",
    "heart['class_label'].value_counts() "
   ]
  },
  {
   "cell_type": "code",
   "execution_count": 182,
   "metadata": {},
   "outputs": [
    {
     "data": {
      "text/plain": [
       "(0.45874587458745875, 0.49829519076190809, 0.0, array([ 0.,  1.]))"
      ]
     },
     "execution_count": 182,
     "metadata": {},
     "output_type": "execute_result"
    }
   ],
   "source": [
    "#descriptives of class_label \n",
    "np.mean(y), np.std(y), np.median(y), np.percentile(y,[25,75]) # slightly skewed"
   ]
  },
  {
   "cell_type": "code",
   "execution_count": 287,
   "metadata": {},
   "outputs": [
    {
     "data": {
      "text/html": [
       "<div>\n",
       "<style>\n",
       "    .dataframe thead tr:only-child th {\n",
       "        text-align: right;\n",
       "    }\n",
       "\n",
       "    .dataframe thead th {\n",
       "        text-align: left;\n",
       "    }\n",
       "\n",
       "    .dataframe tbody tr th {\n",
       "        vertical-align: top;\n",
       "    }\n",
       "</style>\n",
       "<table border=\"1\" class=\"dataframe\">\n",
       "  <thead>\n",
       "    <tr style=\"text-align: right;\">\n",
       "      <th></th>\n",
       "      <th>age</th>\n",
       "      <th>sex</th>\n",
       "      <th>cp</th>\n",
       "      <th>trestbp</th>\n",
       "      <th>chol</th>\n",
       "      <th>fbs</th>\n",
       "      <th>restecg</th>\n",
       "      <th>thalach</th>\n",
       "      <th>exang</th>\n",
       "      <th>oldpeak</th>\n",
       "      <th>slope</th>\n",
       "      <th>ca</th>\n",
       "      <th>thal</th>\n",
       "      <th>class_label</th>\n",
       "    </tr>\n",
       "  </thead>\n",
       "  <tbody>\n",
       "    <tr>\n",
       "      <th>count</th>\n",
       "      <td>303.000000</td>\n",
       "      <td>303.000000</td>\n",
       "      <td>303.000000</td>\n",
       "      <td>303.000000</td>\n",
       "      <td>303.000000</td>\n",
       "      <td>303.000000</td>\n",
       "      <td>303.000000</td>\n",
       "      <td>303.000000</td>\n",
       "      <td>303.000000</td>\n",
       "      <td>303.000000</td>\n",
       "      <td>303.000000</td>\n",
       "      <td>299.000000</td>\n",
       "      <td>301.000000</td>\n",
       "      <td>303.000000</td>\n",
       "    </tr>\n",
       "    <tr>\n",
       "      <th>mean</th>\n",
       "      <td>54.438944</td>\n",
       "      <td>0.679868</td>\n",
       "      <td>3.158416</td>\n",
       "      <td>131.689769</td>\n",
       "      <td>246.693069</td>\n",
       "      <td>0.148515</td>\n",
       "      <td>0.990099</td>\n",
       "      <td>149.607261</td>\n",
       "      <td>0.326733</td>\n",
       "      <td>1.039604</td>\n",
       "      <td>1.600660</td>\n",
       "      <td>0.672241</td>\n",
       "      <td>4.734219</td>\n",
       "      <td>0.458746</td>\n",
       "    </tr>\n",
       "    <tr>\n",
       "      <th>std</th>\n",
       "      <td>9.038662</td>\n",
       "      <td>0.467299</td>\n",
       "      <td>0.960126</td>\n",
       "      <td>17.599748</td>\n",
       "      <td>51.776918</td>\n",
       "      <td>0.356198</td>\n",
       "      <td>0.994971</td>\n",
       "      <td>22.875003</td>\n",
       "      <td>0.469794</td>\n",
       "      <td>1.161075</td>\n",
       "      <td>0.616226</td>\n",
       "      <td>0.937438</td>\n",
       "      <td>1.939706</td>\n",
       "      <td>0.499120</td>\n",
       "    </tr>\n",
       "    <tr>\n",
       "      <th>min</th>\n",
       "      <td>29.000000</td>\n",
       "      <td>0.000000</td>\n",
       "      <td>1.000000</td>\n",
       "      <td>94.000000</td>\n",
       "      <td>126.000000</td>\n",
       "      <td>0.000000</td>\n",
       "      <td>0.000000</td>\n",
       "      <td>71.000000</td>\n",
       "      <td>0.000000</td>\n",
       "      <td>0.000000</td>\n",
       "      <td>1.000000</td>\n",
       "      <td>0.000000</td>\n",
       "      <td>3.000000</td>\n",
       "      <td>0.000000</td>\n",
       "    </tr>\n",
       "    <tr>\n",
       "      <th>25%</th>\n",
       "      <td>48.000000</td>\n",
       "      <td>0.000000</td>\n",
       "      <td>3.000000</td>\n",
       "      <td>120.000000</td>\n",
       "      <td>211.000000</td>\n",
       "      <td>0.000000</td>\n",
       "      <td>0.000000</td>\n",
       "      <td>133.500000</td>\n",
       "      <td>0.000000</td>\n",
       "      <td>0.000000</td>\n",
       "      <td>1.000000</td>\n",
       "      <td>0.000000</td>\n",
       "      <td>3.000000</td>\n",
       "      <td>0.000000</td>\n",
       "    </tr>\n",
       "    <tr>\n",
       "      <th>50%</th>\n",
       "      <td>56.000000</td>\n",
       "      <td>1.000000</td>\n",
       "      <td>3.000000</td>\n",
       "      <td>130.000000</td>\n",
       "      <td>241.000000</td>\n",
       "      <td>0.000000</td>\n",
       "      <td>1.000000</td>\n",
       "      <td>153.000000</td>\n",
       "      <td>0.000000</td>\n",
       "      <td>0.800000</td>\n",
       "      <td>2.000000</td>\n",
       "      <td>0.000000</td>\n",
       "      <td>3.000000</td>\n",
       "      <td>0.000000</td>\n",
       "    </tr>\n",
       "    <tr>\n",
       "      <th>75%</th>\n",
       "      <td>61.000000</td>\n",
       "      <td>1.000000</td>\n",
       "      <td>4.000000</td>\n",
       "      <td>140.000000</td>\n",
       "      <td>275.000000</td>\n",
       "      <td>0.000000</td>\n",
       "      <td>2.000000</td>\n",
       "      <td>166.000000</td>\n",
       "      <td>1.000000</td>\n",
       "      <td>1.600000</td>\n",
       "      <td>2.000000</td>\n",
       "      <td>1.000000</td>\n",
       "      <td>7.000000</td>\n",
       "      <td>1.000000</td>\n",
       "    </tr>\n",
       "    <tr>\n",
       "      <th>max</th>\n",
       "      <td>77.000000</td>\n",
       "      <td>1.000000</td>\n",
       "      <td>4.000000</td>\n",
       "      <td>200.000000</td>\n",
       "      <td>564.000000</td>\n",
       "      <td>1.000000</td>\n",
       "      <td>2.000000</td>\n",
       "      <td>202.000000</td>\n",
       "      <td>1.000000</td>\n",
       "      <td>6.200000</td>\n",
       "      <td>3.000000</td>\n",
       "      <td>3.000000</td>\n",
       "      <td>7.000000</td>\n",
       "      <td>1.000000</td>\n",
       "    </tr>\n",
       "  </tbody>\n",
       "</table>\n",
       "</div>"
      ],
      "text/plain": [
       "              age         sex          cp     trestbp        chol         fbs  \\\n",
       "count  303.000000  303.000000  303.000000  303.000000  303.000000  303.000000   \n",
       "mean    54.438944    0.679868    3.158416  131.689769  246.693069    0.148515   \n",
       "std      9.038662    0.467299    0.960126   17.599748   51.776918    0.356198   \n",
       "min     29.000000    0.000000    1.000000   94.000000  126.000000    0.000000   \n",
       "25%     48.000000    0.000000    3.000000  120.000000  211.000000    0.000000   \n",
       "50%     56.000000    1.000000    3.000000  130.000000  241.000000    0.000000   \n",
       "75%     61.000000    1.000000    4.000000  140.000000  275.000000    0.000000   \n",
       "max     77.000000    1.000000    4.000000  200.000000  564.000000    1.000000   \n",
       "\n",
       "          restecg     thalach       exang     oldpeak       slope          ca  \\\n",
       "count  303.000000  303.000000  303.000000  303.000000  303.000000  299.000000   \n",
       "mean     0.990099  149.607261    0.326733    1.039604    1.600660    0.672241   \n",
       "std      0.994971   22.875003    0.469794    1.161075    0.616226    0.937438   \n",
       "min      0.000000   71.000000    0.000000    0.000000    1.000000    0.000000   \n",
       "25%      0.000000  133.500000    0.000000    0.000000    1.000000    0.000000   \n",
       "50%      1.000000  153.000000    0.000000    0.800000    2.000000    0.000000   \n",
       "75%      2.000000  166.000000    1.000000    1.600000    2.000000    1.000000   \n",
       "max      2.000000  202.000000    1.000000    6.200000    3.000000    3.000000   \n",
       "\n",
       "             thal  class_label  \n",
       "count  301.000000   303.000000  \n",
       "mean     4.734219     0.458746  \n",
       "std      1.939706     0.499120  \n",
       "min      3.000000     0.000000  \n",
       "25%      3.000000     0.000000  \n",
       "50%      3.000000     0.000000  \n",
       "75%      7.000000     1.000000  \n",
       "max      7.000000     1.000000  "
      ]
     },
     "execution_count": 287,
     "metadata": {},
     "output_type": "execute_result"
    }
   ],
   "source": [
    "#descriptives of features\n",
    "heart.describe()"
   ]
  },
  {
   "cell_type": "code",
   "execution_count": 25,
   "metadata": {},
   "outputs": [
    {
     "data": {
      "text/plain": [
       "age             56.0\n",
       "sex              1.0\n",
       "cp               3.0\n",
       "trestbp        130.0\n",
       "chol           241.0\n",
       "fbs              0.0\n",
       "restecg          1.0\n",
       "thalach        153.0\n",
       "exang            0.0\n",
       "oldpeak          0.8\n",
       "slope            2.0\n",
       "class_label      0.0\n",
       "dtype: float64"
      ]
     },
     "execution_count": 25,
     "metadata": {},
     "output_type": "execute_result"
    }
   ],
   "source": [
    "#difference between mean and median may identify skew\n",
    "heart.median()\n",
    "\n",
    "#potential skew in thalach ,old peak "
   ]
  },
  {
   "cell_type": "markdown",
   "metadata": {},
   "source": [
    "# Visualising the feature space "
   ]
  },
  {
   "cell_type": "code",
   "execution_count": 295,
   "metadata": {},
   "outputs": [
    {
     "name": "stderr",
     "output_type": "stream",
     "text": [
      "C:\\Users\\Python\\Anaconda3\\lib\\site-packages\\IPython\\core\\interactiveshell.py:2862: UserWarning: To output multiple subplots, the figure containing the passed axes is being cleared\n",
      "  exec(code_obj, self.user_global_ns, self.user_ns)\n"
     ]
    },
    {
     "data": {
      "image/png": "[encoded data removed]",
      "text/plain": [
       "<matplotlib.figure.Figure at 0x286fa403b38>"
      ]
     },
     "metadata": {},
     "output_type": "display_data"
    }
   ],
   "source": [
    "#ploting histograms for each feature\n",
    "fig, axes = plt.subplots(len(heart.columns)//4, 3, figsize=(12,12 ))\n",
    "\n",
    "for triaxis in axes:\n",
    "    for axis in triaxis:\n",
    "        heart.hist(column = heart.columns[0:13], bins = 15, ax=axis, edgecolor= 'k')\n"
   ]
  },
  {
   "cell_type": "markdown",
   "metadata": {},
   "source": [
    "# Correlation Matrix "
   ]
  },
  {
   "cell_type": "code",
   "execution_count": 108,
   "metadata": {},
   "outputs": [
    {
     "data": {
      "text/plain": [
       "Text(0.5,1,'Correlation Matrix for Cleveland Heart Disease dataset')"
      ]
     },
     "execution_count": 108,
     "metadata": {},
     "output_type": "execute_result"
    },
    {
     "data": {
      "image/png": "[encoded data removed]",
      "text/plain": [
       "<matplotlib.figure.Figure at 0x17311364da0>"
      ]
     },
     "metadata": {},
     "output_type": "display_data"
    }
   ],
   "source": [
    "\n",
    "\n",
    "#thalach appears to have negative correlation with certain variables \n",
    "#thalach appears most correlated with  agecp, thalach, exang, oldpeak\n",
    "#slope and \n",
    "\n",
    "import seaborn as sns\n",
    "\n",
    "corr = heart.corr()\n",
    "ax = sns.heatmap(corr, annot = True, cmap=\"YlGnBu\")\n",
    "\n",
    "plt.setp(ax.axes.get_xticklabels(), rotation=45)\n",
    "plt.rcParams['figure.figsize']=(20,20)\n",
    "plt.title('Correlation Matrix for Cleveland Heart Disease dataset')"
   ]
  },
  {
   "cell_type": "markdown",
   "metadata": {},
   "source": [
    "\n",
    "# 3D plot of ca thal and exchang on class label"
   ]
  },
  {
   "cell_type": "code",
   "execution_count": 13,
   "metadata": {},
   "outputs": [
    {
     "data": {
      "image/png": "[encoded data removed]",
      "text/plain": [
       "<matplotlib.figure.Figure at 0x22ec02d2a90>"
      ]
     },
     "metadata": {},
     "output_type": "display_data"
    }
   ],
   "source": [
    "from mpl_toolkits.mplot3d import Axes3D\n",
    "\n",
    "#features \n",
    "ca = heart['ca']\n",
    "thal = heart['thal']\n",
    "thalach = heart['thalach']\n",
    "\n",
    "\n",
    "\n",
    "#3D plot \n",
    "fig = plt.figure(figsize=(14,12))\n",
    "ax = fig.add_subplot(111, projection='3d')\n",
    "ax.scatter(ca, thal, thalach, c=y)\n",
    "ax.set_xlabel('ca')\n",
    "ax.set_ylabel('thal')\n",
    "ax.set_zlabel('thalach')\n",
    "plt.title('3D plot of heart disease classification based on correlated variables, ca,thal and thalach')\n",
    "plt.show()\n",
    "\n"
   ]
  },
  {
   "cell_type": "code",
   "execution_count": 194,
   "metadata": {
    "collapsed": true
   },
   "outputs": [],
   "source": [
    "#split features and class labels in pandas \n",
    "yheart = heart['class_label'] #class label\n",
    "Xheart = heart.iloc[:,0:13] #features"
   ]
  },
  {
   "cell_type": "markdown",
   "metadata": {},
   "source": [
    "# Methodology "
   ]
  },
  {
   "cell_type": "markdown",
   "metadata": {},
   "source": [
    "# Data cleansing  - missing data\n",
    "\n",
    "missing data in categorical variables therefore must be careful with choice of imputation"
   ]
  },
  {
   "cell_type": "code",
   "execution_count": 6,
   "metadata": {},
   "outputs": [
    {
     "data": {
      "text/html": [
       "<div>\n",
       "<style>\n",
       "    .dataframe thead tr:only-child th {\n",
       "        text-align: right;\n",
       "    }\n",
       "\n",
       "    .dataframe thead th {\n",
       "        text-align: left;\n",
       "    }\n",
       "\n",
       "    .dataframe tbody tr th {\n",
       "        vertical-align: top;\n",
       "    }\n",
       "</style>\n",
       "<table border=\"1\" class=\"dataframe\">\n",
       "  <thead>\n",
       "    <tr style=\"text-align: right;\">\n",
       "      <th></th>\n",
       "      <th>age</th>\n",
       "      <th>sex</th>\n",
       "      <th>cp</th>\n",
       "      <th>trestbp</th>\n",
       "      <th>chol</th>\n",
       "      <th>fbs</th>\n",
       "      <th>restecg</th>\n",
       "      <th>thalach</th>\n",
       "      <th>exang</th>\n",
       "      <th>oldpeak</th>\n",
       "      <th>slope</th>\n",
       "      <th>ca</th>\n",
       "      <th>thal</th>\n",
       "      <th>class_label</th>\n",
       "    </tr>\n",
       "  </thead>\n",
       "  <tbody>\n",
       "    <tr>\n",
       "      <th>0</th>\n",
       "      <td>63.0</td>\n",
       "      <td>1.0</td>\n",
       "      <td>1.0</td>\n",
       "      <td>145.0</td>\n",
       "      <td>233.0</td>\n",
       "      <td>1.0</td>\n",
       "      <td>2.0</td>\n",
       "      <td>150.0</td>\n",
       "      <td>0.0</td>\n",
       "      <td>2.3</td>\n",
       "      <td>3.0</td>\n",
       "      <td>0.0</td>\n",
       "      <td>6.0</td>\n",
       "      <td>0</td>\n",
       "    </tr>\n",
       "    <tr>\n",
       "      <th>1</th>\n",
       "      <td>67.0</td>\n",
       "      <td>1.0</td>\n",
       "      <td>4.0</td>\n",
       "      <td>160.0</td>\n",
       "      <td>286.0</td>\n",
       "      <td>0.0</td>\n",
       "      <td>2.0</td>\n",
       "      <td>108.0</td>\n",
       "      <td>1.0</td>\n",
       "      <td>1.5</td>\n",
       "      <td>2.0</td>\n",
       "      <td>3.0</td>\n",
       "      <td>3.0</td>\n",
       "      <td>1</td>\n",
       "    </tr>\n",
       "    <tr>\n",
       "      <th>2</th>\n",
       "      <td>67.0</td>\n",
       "      <td>1.0</td>\n",
       "      <td>4.0</td>\n",
       "      <td>120.0</td>\n",
       "      <td>229.0</td>\n",
       "      <td>0.0</td>\n",
       "      <td>2.0</td>\n",
       "      <td>129.0</td>\n",
       "      <td>1.0</td>\n",
       "      <td>2.6</td>\n",
       "      <td>2.0</td>\n",
       "      <td>2.0</td>\n",
       "      <td>7.0</td>\n",
       "      <td>1</td>\n",
       "    </tr>\n",
       "    <tr>\n",
       "      <th>3</th>\n",
       "      <td>37.0</td>\n",
       "      <td>1.0</td>\n",
       "      <td>3.0</td>\n",
       "      <td>130.0</td>\n",
       "      <td>250.0</td>\n",
       "      <td>0.0</td>\n",
       "      <td>0.0</td>\n",
       "      <td>187.0</td>\n",
       "      <td>0.0</td>\n",
       "      <td>3.5</td>\n",
       "      <td>3.0</td>\n",
       "      <td>0.0</td>\n",
       "      <td>3.0</td>\n",
       "      <td>0</td>\n",
       "    </tr>\n",
       "    <tr>\n",
       "      <th>4</th>\n",
       "      <td>41.0</td>\n",
       "      <td>0.0</td>\n",
       "      <td>2.0</td>\n",
       "      <td>130.0</td>\n",
       "      <td>204.0</td>\n",
       "      <td>0.0</td>\n",
       "      <td>2.0</td>\n",
       "      <td>172.0</td>\n",
       "      <td>0.0</td>\n",
       "      <td>1.4</td>\n",
       "      <td>1.0</td>\n",
       "      <td>0.0</td>\n",
       "      <td>3.0</td>\n",
       "      <td>0</td>\n",
       "    </tr>\n",
       "    <tr>\n",
       "      <th>5</th>\n",
       "      <td>56.0</td>\n",
       "      <td>1.0</td>\n",
       "      <td>2.0</td>\n",
       "      <td>120.0</td>\n",
       "      <td>236.0</td>\n",
       "      <td>0.0</td>\n",
       "      <td>0.0</td>\n",
       "      <td>178.0</td>\n",
       "      <td>0.0</td>\n",
       "      <td>0.8</td>\n",
       "      <td>1.0</td>\n",
       "      <td>0.0</td>\n",
       "      <td>3.0</td>\n",
       "      <td>0</td>\n",
       "    </tr>\n",
       "    <tr>\n",
       "      <th>6</th>\n",
       "      <td>62.0</td>\n",
       "      <td>0.0</td>\n",
       "      <td>4.0</td>\n",
       "      <td>140.0</td>\n",
       "      <td>268.0</td>\n",
       "      <td>0.0</td>\n",
       "      <td>2.0</td>\n",
       "      <td>160.0</td>\n",
       "      <td>0.0</td>\n",
       "      <td>3.6</td>\n",
       "      <td>3.0</td>\n",
       "      <td>2.0</td>\n",
       "      <td>3.0</td>\n",
       "      <td>1</td>\n",
       "    </tr>\n",
       "    <tr>\n",
       "      <th>7</th>\n",
       "      <td>57.0</td>\n",
       "      <td>0.0</td>\n",
       "      <td>4.0</td>\n",
       "      <td>120.0</td>\n",
       "      <td>354.0</td>\n",
       "      <td>0.0</td>\n",
       "      <td>0.0</td>\n",
       "      <td>163.0</td>\n",
       "      <td>1.0</td>\n",
       "      <td>0.6</td>\n",
       "      <td>1.0</td>\n",
       "      <td>0.0</td>\n",
       "      <td>3.0</td>\n",
       "      <td>0</td>\n",
       "    </tr>\n",
       "    <tr>\n",
       "      <th>8</th>\n",
       "      <td>63.0</td>\n",
       "      <td>1.0</td>\n",
       "      <td>4.0</td>\n",
       "      <td>130.0</td>\n",
       "      <td>254.0</td>\n",
       "      <td>0.0</td>\n",
       "      <td>2.0</td>\n",
       "      <td>147.0</td>\n",
       "      <td>0.0</td>\n",
       "      <td>1.4</td>\n",
       "      <td>2.0</td>\n",
       "      <td>1.0</td>\n",
       "      <td>7.0</td>\n",
       "      <td>1</td>\n",
       "    </tr>\n",
       "    <tr>\n",
       "      <th>9</th>\n",
       "      <td>53.0</td>\n",
       "      <td>1.0</td>\n",
       "      <td>4.0</td>\n",
       "      <td>140.0</td>\n",
       "      <td>203.0</td>\n",
       "      <td>1.0</td>\n",
       "      <td>2.0</td>\n",
       "      <td>155.0</td>\n",
       "      <td>1.0</td>\n",
       "      <td>3.1</td>\n",
       "      <td>3.0</td>\n",
       "      <td>0.0</td>\n",
       "      <td>7.0</td>\n",
       "      <td>1</td>\n",
       "    </tr>\n",
       "    <tr>\n",
       "      <th>10</th>\n",
       "      <td>57.0</td>\n",
       "      <td>1.0</td>\n",
       "      <td>4.0</td>\n",
       "      <td>140.0</td>\n",
       "      <td>192.0</td>\n",
       "      <td>0.0</td>\n",
       "      <td>0.0</td>\n",
       "      <td>148.0</td>\n",
       "      <td>0.0</td>\n",
       "      <td>0.4</td>\n",
       "      <td>2.0</td>\n",
       "      <td>0.0</td>\n",
       "      <td>6.0</td>\n",
       "      <td>0</td>\n",
       "    </tr>\n",
       "    <tr>\n",
       "      <th>11</th>\n",
       "      <td>56.0</td>\n",
       "      <td>0.0</td>\n",
       "      <td>2.0</td>\n",
       "      <td>140.0</td>\n",
       "      <td>294.0</td>\n",
       "      <td>0.0</td>\n",
       "      <td>2.0</td>\n",
       "      <td>153.0</td>\n",
       "      <td>0.0</td>\n",
       "      <td>1.3</td>\n",
       "      <td>2.0</td>\n",
       "      <td>0.0</td>\n",
       "      <td>3.0</td>\n",
       "      <td>0</td>\n",
       "    </tr>\n",
       "    <tr>\n",
       "      <th>12</th>\n",
       "      <td>56.0</td>\n",
       "      <td>1.0</td>\n",
       "      <td>3.0</td>\n",
       "      <td>130.0</td>\n",
       "      <td>256.0</td>\n",
       "      <td>1.0</td>\n",
       "      <td>2.0</td>\n",
       "      <td>142.0</td>\n",
       "      <td>1.0</td>\n",
       "      <td>0.6</td>\n",
       "      <td>2.0</td>\n",
       "      <td>1.0</td>\n",
       "      <td>6.0</td>\n",
       "      <td>1</td>\n",
       "    </tr>\n",
       "    <tr>\n",
       "      <th>13</th>\n",
       "      <td>44.0</td>\n",
       "      <td>1.0</td>\n",
       "      <td>2.0</td>\n",
       "      <td>120.0</td>\n",
       "      <td>263.0</td>\n",
       "      <td>0.0</td>\n",
       "      <td>0.0</td>\n",
       "      <td>173.0</td>\n",
       "      <td>0.0</td>\n",
       "      <td>0.0</td>\n",
       "      <td>1.0</td>\n",
       "      <td>0.0</td>\n",
       "      <td>7.0</td>\n",
       "      <td>0</td>\n",
       "    </tr>\n",
       "    <tr>\n",
       "      <th>14</th>\n",
       "      <td>52.0</td>\n",
       "      <td>1.0</td>\n",
       "      <td>3.0</td>\n",
       "      <td>172.0</td>\n",
       "      <td>199.0</td>\n",
       "      <td>1.0</td>\n",
       "      <td>0.0</td>\n",
       "      <td>162.0</td>\n",
       "      <td>0.0</td>\n",
       "      <td>0.5</td>\n",
       "      <td>1.0</td>\n",
       "      <td>0.0</td>\n",
       "      <td>7.0</td>\n",
       "      <td>0</td>\n",
       "    </tr>\n",
       "    <tr>\n",
       "      <th>15</th>\n",
       "      <td>57.0</td>\n",
       "      <td>1.0</td>\n",
       "      <td>3.0</td>\n",
       "      <td>150.0</td>\n",
       "      <td>168.0</td>\n",
       "      <td>0.0</td>\n",
       "      <td>0.0</td>\n",
       "      <td>174.0</td>\n",
       "      <td>0.0</td>\n",
       "      <td>1.6</td>\n",
       "      <td>1.0</td>\n",
       "      <td>0.0</td>\n",
       "      <td>3.0</td>\n",
       "      <td>0</td>\n",
       "    </tr>\n",
       "    <tr>\n",
       "      <th>16</th>\n",
       "      <td>48.0</td>\n",
       "      <td>1.0</td>\n",
       "      <td>2.0</td>\n",
       "      <td>110.0</td>\n",
       "      <td>229.0</td>\n",
       "      <td>0.0</td>\n",
       "      <td>0.0</td>\n",
       "      <td>168.0</td>\n",
       "      <td>0.0</td>\n",
       "      <td>1.0</td>\n",
       "      <td>3.0</td>\n",
       "      <td>0.0</td>\n",
       "      <td>7.0</td>\n",
       "      <td>1</td>\n",
       "    </tr>\n",
       "    <tr>\n",
       "      <th>17</th>\n",
       "      <td>54.0</td>\n",
       "      <td>1.0</td>\n",
       "      <td>4.0</td>\n",
       "      <td>140.0</td>\n",
       "      <td>239.0</td>\n",
       "      <td>0.0</td>\n",
       "      <td>0.0</td>\n",
       "      <td>160.0</td>\n",
       "      <td>0.0</td>\n",
       "      <td>1.2</td>\n",
       "      <td>1.0</td>\n",
       "      <td>0.0</td>\n",
       "      <td>3.0</td>\n",
       "      <td>0</td>\n",
       "    </tr>\n",
       "    <tr>\n",
       "      <th>18</th>\n",
       "      <td>48.0</td>\n",
       "      <td>0.0</td>\n",
       "      <td>3.0</td>\n",
       "      <td>130.0</td>\n",
       "      <td>275.0</td>\n",
       "      <td>0.0</td>\n",
       "      <td>0.0</td>\n",
       "      <td>139.0</td>\n",
       "      <td>0.0</td>\n",
       "      <td>0.2</td>\n",
       "      <td>1.0</td>\n",
       "      <td>0.0</td>\n",
       "      <td>3.0</td>\n",
       "      <td>0</td>\n",
       "    </tr>\n",
       "    <tr>\n",
       "      <th>19</th>\n",
       "      <td>49.0</td>\n",
       "      <td>1.0</td>\n",
       "      <td>2.0</td>\n",
       "      <td>130.0</td>\n",
       "      <td>266.0</td>\n",
       "      <td>0.0</td>\n",
       "      <td>0.0</td>\n",
       "      <td>171.0</td>\n",
       "      <td>0.0</td>\n",
       "      <td>0.6</td>\n",
       "      <td>1.0</td>\n",
       "      <td>0.0</td>\n",
       "      <td>3.0</td>\n",
       "      <td>0</td>\n",
       "    </tr>\n",
       "    <tr>\n",
       "      <th>20</th>\n",
       "      <td>64.0</td>\n",
       "      <td>1.0</td>\n",
       "      <td>1.0</td>\n",
       "      <td>110.0</td>\n",
       "      <td>211.0</td>\n",
       "      <td>0.0</td>\n",
       "      <td>2.0</td>\n",
       "      <td>144.0</td>\n",
       "      <td>1.0</td>\n",
       "      <td>1.8</td>\n",
       "      <td>2.0</td>\n",
       "      <td>0.0</td>\n",
       "      <td>3.0</td>\n",
       "      <td>0</td>\n",
       "    </tr>\n",
       "    <tr>\n",
       "      <th>21</th>\n",
       "      <td>58.0</td>\n",
       "      <td>0.0</td>\n",
       "      <td>1.0</td>\n",
       "      <td>150.0</td>\n",
       "      <td>283.0</td>\n",
       "      <td>1.0</td>\n",
       "      <td>2.0</td>\n",
       "      <td>162.0</td>\n",
       "      <td>0.0</td>\n",
       "      <td>1.0</td>\n",
       "      <td>1.0</td>\n",
       "      <td>0.0</td>\n",
       "      <td>3.0</td>\n",
       "      <td>0</td>\n",
       "    </tr>\n",
       "    <tr>\n",
       "      <th>22</th>\n",
       "      <td>58.0</td>\n",
       "      <td>1.0</td>\n",
       "      <td>2.0</td>\n",
       "      <td>120.0</td>\n",
       "      <td>284.0</td>\n",
       "      <td>0.0</td>\n",
       "      <td>2.0</td>\n",
       "      <td>160.0</td>\n",
       "      <td>0.0</td>\n",
       "      <td>1.8</td>\n",
       "      <td>2.0</td>\n",
       "      <td>0.0</td>\n",
       "      <td>3.0</td>\n",
       "      <td>1</td>\n",
       "    </tr>\n",
       "    <tr>\n",
       "      <th>23</th>\n",
       "      <td>58.0</td>\n",
       "      <td>1.0</td>\n",
       "      <td>3.0</td>\n",
       "      <td>132.0</td>\n",
       "      <td>224.0</td>\n",
       "      <td>0.0</td>\n",
       "      <td>2.0</td>\n",
       "      <td>173.0</td>\n",
       "      <td>0.0</td>\n",
       "      <td>3.2</td>\n",
       "      <td>1.0</td>\n",
       "      <td>2.0</td>\n",
       "      <td>7.0</td>\n",
       "      <td>1</td>\n",
       "    </tr>\n",
       "    <tr>\n",
       "      <th>24</th>\n",
       "      <td>60.0</td>\n",
       "      <td>1.0</td>\n",
       "      <td>4.0</td>\n",
       "      <td>130.0</td>\n",
       "      <td>206.0</td>\n",
       "      <td>0.0</td>\n",
       "      <td>2.0</td>\n",
       "      <td>132.0</td>\n",
       "      <td>1.0</td>\n",
       "      <td>2.4</td>\n",
       "      <td>2.0</td>\n",
       "      <td>2.0</td>\n",
       "      <td>7.0</td>\n",
       "      <td>1</td>\n",
       "    </tr>\n",
       "    <tr>\n",
       "      <th>25</th>\n",
       "      <td>50.0</td>\n",
       "      <td>0.0</td>\n",
       "      <td>3.0</td>\n",
       "      <td>120.0</td>\n",
       "      <td>219.0</td>\n",
       "      <td>0.0</td>\n",
       "      <td>0.0</td>\n",
       "      <td>158.0</td>\n",
       "      <td>0.0</td>\n",
       "      <td>1.6</td>\n",
       "      <td>2.0</td>\n",
       "      <td>0.0</td>\n",
       "      <td>3.0</td>\n",
       "      <td>0</td>\n",
       "    </tr>\n",
       "    <tr>\n",
       "      <th>26</th>\n",
       "      <td>58.0</td>\n",
       "      <td>0.0</td>\n",
       "      <td>3.0</td>\n",
       "      <td>120.0</td>\n",
       "      <td>340.0</td>\n",
       "      <td>0.0</td>\n",
       "      <td>0.0</td>\n",
       "      <td>172.0</td>\n",
       "      <td>0.0</td>\n",
       "      <td>0.0</td>\n",
       "      <td>1.0</td>\n",
       "      <td>0.0</td>\n",
       "      <td>3.0</td>\n",
       "      <td>0</td>\n",
       "    </tr>\n",
       "    <tr>\n",
       "      <th>27</th>\n",
       "      <td>66.0</td>\n",
       "      <td>0.0</td>\n",
       "      <td>1.0</td>\n",
       "      <td>150.0</td>\n",
       "      <td>226.0</td>\n",
       "      <td>0.0</td>\n",
       "      <td>0.0</td>\n",
       "      <td>114.0</td>\n",
       "      <td>0.0</td>\n",
       "      <td>2.6</td>\n",
       "      <td>3.0</td>\n",
       "      <td>0.0</td>\n",
       "      <td>3.0</td>\n",
       "      <td>0</td>\n",
       "    </tr>\n",
       "    <tr>\n",
       "      <th>28</th>\n",
       "      <td>43.0</td>\n",
       "      <td>1.0</td>\n",
       "      <td>4.0</td>\n",
       "      <td>150.0</td>\n",
       "      <td>247.0</td>\n",
       "      <td>0.0</td>\n",
       "      <td>0.0</td>\n",
       "      <td>171.0</td>\n",
       "      <td>0.0</td>\n",
       "      <td>1.5</td>\n",
       "      <td>1.0</td>\n",
       "      <td>0.0</td>\n",
       "      <td>3.0</td>\n",
       "      <td>0</td>\n",
       "    </tr>\n",
       "    <tr>\n",
       "      <th>29</th>\n",
       "      <td>40.0</td>\n",
       "      <td>1.0</td>\n",
       "      <td>4.0</td>\n",
       "      <td>110.0</td>\n",
       "      <td>167.0</td>\n",
       "      <td>0.0</td>\n",
       "      <td>2.0</td>\n",
       "      <td>114.0</td>\n",
       "      <td>1.0</td>\n",
       "      <td>2.0</td>\n",
       "      <td>2.0</td>\n",
       "      <td>0.0</td>\n",
       "      <td>7.0</td>\n",
       "      <td>1</td>\n",
       "    </tr>\n",
       "    <tr>\n",
       "      <th>...</th>\n",
       "      <td>...</td>\n",
       "      <td>...</td>\n",
       "      <td>...</td>\n",
       "      <td>...</td>\n",
       "      <td>...</td>\n",
       "      <td>...</td>\n",
       "      <td>...</td>\n",
       "      <td>...</td>\n",
       "      <td>...</td>\n",
       "      <td>...</td>\n",
       "      <td>...</td>\n",
       "      <td>...</td>\n",
       "      <td>...</td>\n",
       "      <td>...</td>\n",
       "    </tr>\n",
       "    <tr>\n",
       "      <th>273</th>\n",
       "      <td>71.0</td>\n",
       "      <td>0.0</td>\n",
       "      <td>4.0</td>\n",
       "      <td>112.0</td>\n",
       "      <td>149.0</td>\n",
       "      <td>0.0</td>\n",
       "      <td>0.0</td>\n",
       "      <td>125.0</td>\n",
       "      <td>0.0</td>\n",
       "      <td>1.6</td>\n",
       "      <td>2.0</td>\n",
       "      <td>0.0</td>\n",
       "      <td>3.0</td>\n",
       "      <td>0</td>\n",
       "    </tr>\n",
       "    <tr>\n",
       "      <th>274</th>\n",
       "      <td>59.0</td>\n",
       "      <td>1.0</td>\n",
       "      <td>1.0</td>\n",
       "      <td>134.0</td>\n",
       "      <td>204.0</td>\n",
       "      <td>0.0</td>\n",
       "      <td>0.0</td>\n",
       "      <td>162.0</td>\n",
       "      <td>0.0</td>\n",
       "      <td>0.8</td>\n",
       "      <td>1.0</td>\n",
       "      <td>2.0</td>\n",
       "      <td>3.0</td>\n",
       "      <td>1</td>\n",
       "    </tr>\n",
       "    <tr>\n",
       "      <th>275</th>\n",
       "      <td>64.0</td>\n",
       "      <td>1.0</td>\n",
       "      <td>1.0</td>\n",
       "      <td>170.0</td>\n",
       "      <td>227.0</td>\n",
       "      <td>0.0</td>\n",
       "      <td>2.0</td>\n",
       "      <td>155.0</td>\n",
       "      <td>0.0</td>\n",
       "      <td>0.6</td>\n",
       "      <td>2.0</td>\n",
       "      <td>0.0</td>\n",
       "      <td>7.0</td>\n",
       "      <td>0</td>\n",
       "    </tr>\n",
       "    <tr>\n",
       "      <th>276</th>\n",
       "      <td>66.0</td>\n",
       "      <td>0.0</td>\n",
       "      <td>3.0</td>\n",
       "      <td>146.0</td>\n",
       "      <td>278.0</td>\n",
       "      <td>0.0</td>\n",
       "      <td>2.0</td>\n",
       "      <td>152.0</td>\n",
       "      <td>0.0</td>\n",
       "      <td>0.0</td>\n",
       "      <td>2.0</td>\n",
       "      <td>1.0</td>\n",
       "      <td>3.0</td>\n",
       "      <td>0</td>\n",
       "    </tr>\n",
       "    <tr>\n",
       "      <th>277</th>\n",
       "      <td>39.0</td>\n",
       "      <td>0.0</td>\n",
       "      <td>3.0</td>\n",
       "      <td>138.0</td>\n",
       "      <td>220.0</td>\n",
       "      <td>0.0</td>\n",
       "      <td>0.0</td>\n",
       "      <td>152.0</td>\n",
       "      <td>0.0</td>\n",
       "      <td>0.0</td>\n",
       "      <td>2.0</td>\n",
       "      <td>0.0</td>\n",
       "      <td>3.0</td>\n",
       "      <td>0</td>\n",
       "    </tr>\n",
       "    <tr>\n",
       "      <th>278</th>\n",
       "      <td>57.0</td>\n",
       "      <td>1.0</td>\n",
       "      <td>2.0</td>\n",
       "      <td>154.0</td>\n",
       "      <td>232.0</td>\n",
       "      <td>0.0</td>\n",
       "      <td>2.0</td>\n",
       "      <td>164.0</td>\n",
       "      <td>0.0</td>\n",
       "      <td>0.0</td>\n",
       "      <td>1.0</td>\n",
       "      <td>1.0</td>\n",
       "      <td>3.0</td>\n",
       "      <td>1</td>\n",
       "    </tr>\n",
       "    <tr>\n",
       "      <th>279</th>\n",
       "      <td>58.0</td>\n",
       "      <td>0.0</td>\n",
       "      <td>4.0</td>\n",
       "      <td>130.0</td>\n",
       "      <td>197.0</td>\n",
       "      <td>0.0</td>\n",
       "      <td>0.0</td>\n",
       "      <td>131.0</td>\n",
       "      <td>0.0</td>\n",
       "      <td>0.6</td>\n",
       "      <td>2.0</td>\n",
       "      <td>0.0</td>\n",
       "      <td>3.0</td>\n",
       "      <td>0</td>\n",
       "    </tr>\n",
       "    <tr>\n",
       "      <th>280</th>\n",
       "      <td>57.0</td>\n",
       "      <td>1.0</td>\n",
       "      <td>4.0</td>\n",
       "      <td>110.0</td>\n",
       "      <td>335.0</td>\n",
       "      <td>0.0</td>\n",
       "      <td>0.0</td>\n",
       "      <td>143.0</td>\n",
       "      <td>1.0</td>\n",
       "      <td>3.0</td>\n",
       "      <td>2.0</td>\n",
       "      <td>1.0</td>\n",
       "      <td>7.0</td>\n",
       "      <td>1</td>\n",
       "    </tr>\n",
       "    <tr>\n",
       "      <th>281</th>\n",
       "      <td>47.0</td>\n",
       "      <td>1.0</td>\n",
       "      <td>3.0</td>\n",
       "      <td>130.0</td>\n",
       "      <td>253.0</td>\n",
       "      <td>0.0</td>\n",
       "      <td>0.0</td>\n",
       "      <td>179.0</td>\n",
       "      <td>0.0</td>\n",
       "      <td>0.0</td>\n",
       "      <td>1.0</td>\n",
       "      <td>0.0</td>\n",
       "      <td>3.0</td>\n",
       "      <td>0</td>\n",
       "    </tr>\n",
       "    <tr>\n",
       "      <th>282</th>\n",
       "      <td>55.0</td>\n",
       "      <td>0.0</td>\n",
       "      <td>4.0</td>\n",
       "      <td>128.0</td>\n",
       "      <td>205.0</td>\n",
       "      <td>0.0</td>\n",
       "      <td>1.0</td>\n",
       "      <td>130.0</td>\n",
       "      <td>1.0</td>\n",
       "      <td>2.0</td>\n",
       "      <td>2.0</td>\n",
       "      <td>1.0</td>\n",
       "      <td>7.0</td>\n",
       "      <td>1</td>\n",
       "    </tr>\n",
       "    <tr>\n",
       "      <th>283</th>\n",
       "      <td>35.0</td>\n",
       "      <td>1.0</td>\n",
       "      <td>2.0</td>\n",
       "      <td>122.0</td>\n",
       "      <td>192.0</td>\n",
       "      <td>0.0</td>\n",
       "      <td>0.0</td>\n",
       "      <td>174.0</td>\n",
       "      <td>0.0</td>\n",
       "      <td>0.0</td>\n",
       "      <td>1.0</td>\n",
       "      <td>0.0</td>\n",
       "      <td>3.0</td>\n",
       "      <td>0</td>\n",
       "    </tr>\n",
       "    <tr>\n",
       "      <th>284</th>\n",
       "      <td>61.0</td>\n",
       "      <td>1.0</td>\n",
       "      <td>4.0</td>\n",
       "      <td>148.0</td>\n",
       "      <td>203.0</td>\n",
       "      <td>0.0</td>\n",
       "      <td>0.0</td>\n",
       "      <td>161.0</td>\n",
       "      <td>0.0</td>\n",
       "      <td>0.0</td>\n",
       "      <td>1.0</td>\n",
       "      <td>1.0</td>\n",
       "      <td>7.0</td>\n",
       "      <td>1</td>\n",
       "    </tr>\n",
       "    <tr>\n",
       "      <th>285</th>\n",
       "      <td>58.0</td>\n",
       "      <td>1.0</td>\n",
       "      <td>4.0</td>\n",
       "      <td>114.0</td>\n",
       "      <td>318.0</td>\n",
       "      <td>0.0</td>\n",
       "      <td>1.0</td>\n",
       "      <td>140.0</td>\n",
       "      <td>0.0</td>\n",
       "      <td>4.4</td>\n",
       "      <td>3.0</td>\n",
       "      <td>3.0</td>\n",
       "      <td>6.0</td>\n",
       "      <td>1</td>\n",
       "    </tr>\n",
       "    <tr>\n",
       "      <th>286</th>\n",
       "      <td>58.0</td>\n",
       "      <td>0.0</td>\n",
       "      <td>4.0</td>\n",
       "      <td>170.0</td>\n",
       "      <td>225.0</td>\n",
       "      <td>1.0</td>\n",
       "      <td>2.0</td>\n",
       "      <td>146.0</td>\n",
       "      <td>1.0</td>\n",
       "      <td>2.8</td>\n",
       "      <td>2.0</td>\n",
       "      <td>2.0</td>\n",
       "      <td>6.0</td>\n",
       "      <td>1</td>\n",
       "    </tr>\n",
       "    <tr>\n",
       "      <th>287</th>\n",
       "      <td>58.0</td>\n",
       "      <td>1.0</td>\n",
       "      <td>2.0</td>\n",
       "      <td>125.0</td>\n",
       "      <td>220.0</td>\n",
       "      <td>0.0</td>\n",
       "      <td>0.0</td>\n",
       "      <td>144.0</td>\n",
       "      <td>0.0</td>\n",
       "      <td>0.4</td>\n",
       "      <td>2.0</td>\n",
       "      <td>NaN</td>\n",
       "      <td>7.0</td>\n",
       "      <td>0</td>\n",
       "    </tr>\n",
       "    <tr>\n",
       "      <th>288</th>\n",
       "      <td>56.0</td>\n",
       "      <td>1.0</td>\n",
       "      <td>2.0</td>\n",
       "      <td>130.0</td>\n",
       "      <td>221.0</td>\n",
       "      <td>0.0</td>\n",
       "      <td>2.0</td>\n",
       "      <td>163.0</td>\n",
       "      <td>0.0</td>\n",
       "      <td>0.0</td>\n",
       "      <td>1.0</td>\n",
       "      <td>0.0</td>\n",
       "      <td>7.0</td>\n",
       "      <td>0</td>\n",
       "    </tr>\n",
       "    <tr>\n",
       "      <th>289</th>\n",
       "      <td>56.0</td>\n",
       "      <td>1.0</td>\n",
       "      <td>2.0</td>\n",
       "      <td>120.0</td>\n",
       "      <td>240.0</td>\n",
       "      <td>0.0</td>\n",
       "      <td>0.0</td>\n",
       "      <td>169.0</td>\n",
       "      <td>0.0</td>\n",
       "      <td>0.0</td>\n",
       "      <td>3.0</td>\n",
       "      <td>0.0</td>\n",
       "      <td>3.0</td>\n",
       "      <td>0</td>\n",
       "    </tr>\n",
       "    <tr>\n",
       "      <th>290</th>\n",
       "      <td>67.0</td>\n",
       "      <td>1.0</td>\n",
       "      <td>3.0</td>\n",
       "      <td>152.0</td>\n",
       "      <td>212.0</td>\n",
       "      <td>0.0</td>\n",
       "      <td>2.0</td>\n",
       "      <td>150.0</td>\n",
       "      <td>0.0</td>\n",
       "      <td>0.8</td>\n",
       "      <td>2.0</td>\n",
       "      <td>0.0</td>\n",
       "      <td>7.0</td>\n",
       "      <td>1</td>\n",
       "    </tr>\n",
       "    <tr>\n",
       "      <th>291</th>\n",
       "      <td>55.0</td>\n",
       "      <td>0.0</td>\n",
       "      <td>2.0</td>\n",
       "      <td>132.0</td>\n",
       "      <td>342.0</td>\n",
       "      <td>0.0</td>\n",
       "      <td>0.0</td>\n",
       "      <td>166.0</td>\n",
       "      <td>0.0</td>\n",
       "      <td>1.2</td>\n",
       "      <td>1.0</td>\n",
       "      <td>0.0</td>\n",
       "      <td>3.0</td>\n",
       "      <td>0</td>\n",
       "    </tr>\n",
       "    <tr>\n",
       "      <th>292</th>\n",
       "      <td>44.0</td>\n",
       "      <td>1.0</td>\n",
       "      <td>4.0</td>\n",
       "      <td>120.0</td>\n",
       "      <td>169.0</td>\n",
       "      <td>0.0</td>\n",
       "      <td>0.0</td>\n",
       "      <td>144.0</td>\n",
       "      <td>1.0</td>\n",
       "      <td>2.8</td>\n",
       "      <td>3.0</td>\n",
       "      <td>0.0</td>\n",
       "      <td>6.0</td>\n",
       "      <td>1</td>\n",
       "    </tr>\n",
       "    <tr>\n",
       "      <th>293</th>\n",
       "      <td>63.0</td>\n",
       "      <td>1.0</td>\n",
       "      <td>4.0</td>\n",
       "      <td>140.0</td>\n",
       "      <td>187.0</td>\n",
       "      <td>0.0</td>\n",
       "      <td>2.0</td>\n",
       "      <td>144.0</td>\n",
       "      <td>1.0</td>\n",
       "      <td>4.0</td>\n",
       "      <td>1.0</td>\n",
       "      <td>2.0</td>\n",
       "      <td>7.0</td>\n",
       "      <td>1</td>\n",
       "    </tr>\n",
       "    <tr>\n",
       "      <th>294</th>\n",
       "      <td>63.0</td>\n",
       "      <td>0.0</td>\n",
       "      <td>4.0</td>\n",
       "      <td>124.0</td>\n",
       "      <td>197.0</td>\n",
       "      <td>0.0</td>\n",
       "      <td>0.0</td>\n",
       "      <td>136.0</td>\n",
       "      <td>1.0</td>\n",
       "      <td>0.0</td>\n",
       "      <td>2.0</td>\n",
       "      <td>0.0</td>\n",
       "      <td>3.0</td>\n",
       "      <td>1</td>\n",
       "    </tr>\n",
       "    <tr>\n",
       "      <th>295</th>\n",
       "      <td>41.0</td>\n",
       "      <td>1.0</td>\n",
       "      <td>2.0</td>\n",
       "      <td>120.0</td>\n",
       "      <td>157.0</td>\n",
       "      <td>0.0</td>\n",
       "      <td>0.0</td>\n",
       "      <td>182.0</td>\n",
       "      <td>0.0</td>\n",
       "      <td>0.0</td>\n",
       "      <td>1.0</td>\n",
       "      <td>0.0</td>\n",
       "      <td>3.0</td>\n",
       "      <td>0</td>\n",
       "    </tr>\n",
       "    <tr>\n",
       "      <th>296</th>\n",
       "      <td>59.0</td>\n",
       "      <td>1.0</td>\n",
       "      <td>4.0</td>\n",
       "      <td>164.0</td>\n",
       "      <td>176.0</td>\n",
       "      <td>1.0</td>\n",
       "      <td>2.0</td>\n",
       "      <td>90.0</td>\n",
       "      <td>0.0</td>\n",
       "      <td>1.0</td>\n",
       "      <td>2.0</td>\n",
       "      <td>2.0</td>\n",
       "      <td>6.0</td>\n",
       "      <td>1</td>\n",
       "    </tr>\n",
       "    <tr>\n",
       "      <th>297</th>\n",
       "      <td>57.0</td>\n",
       "      <td>0.0</td>\n",
       "      <td>4.0</td>\n",
       "      <td>140.0</td>\n",
       "      <td>241.0</td>\n",
       "      <td>0.0</td>\n",
       "      <td>0.0</td>\n",
       "      <td>123.0</td>\n",
       "      <td>1.0</td>\n",
       "      <td>0.2</td>\n",
       "      <td>2.0</td>\n",
       "      <td>0.0</td>\n",
       "      <td>7.0</td>\n",
       "      <td>1</td>\n",
       "    </tr>\n",
       "    <tr>\n",
       "      <th>298</th>\n",
       "      <td>45.0</td>\n",
       "      <td>1.0</td>\n",
       "      <td>1.0</td>\n",
       "      <td>110.0</td>\n",
       "      <td>264.0</td>\n",
       "      <td>0.0</td>\n",
       "      <td>0.0</td>\n",
       "      <td>132.0</td>\n",
       "      <td>0.0</td>\n",
       "      <td>1.2</td>\n",
       "      <td>2.0</td>\n",
       "      <td>0.0</td>\n",
       "      <td>7.0</td>\n",
       "      <td>1</td>\n",
       "    </tr>\n",
       "    <tr>\n",
       "      <th>299</th>\n",
       "      <td>68.0</td>\n",
       "      <td>1.0</td>\n",
       "      <td>4.0</td>\n",
       "      <td>144.0</td>\n",
       "      <td>193.0</td>\n",
       "      <td>1.0</td>\n",
       "      <td>0.0</td>\n",
       "      <td>141.0</td>\n",
       "      <td>0.0</td>\n",
       "      <td>3.4</td>\n",
       "      <td>2.0</td>\n",
       "      <td>2.0</td>\n",
       "      <td>7.0</td>\n",
       "      <td>1</td>\n",
       "    </tr>\n",
       "    <tr>\n",
       "      <th>300</th>\n",
       "      <td>57.0</td>\n",
       "      <td>1.0</td>\n",
       "      <td>4.0</td>\n",
       "      <td>130.0</td>\n",
       "      <td>131.0</td>\n",
       "      <td>0.0</td>\n",
       "      <td>0.0</td>\n",
       "      <td>115.0</td>\n",
       "      <td>1.0</td>\n",
       "      <td>1.2</td>\n",
       "      <td>2.0</td>\n",
       "      <td>1.0</td>\n",
       "      <td>7.0</td>\n",
       "      <td>1</td>\n",
       "    </tr>\n",
       "    <tr>\n",
       "      <th>301</th>\n",
       "      <td>57.0</td>\n",
       "      <td>0.0</td>\n",
       "      <td>2.0</td>\n",
       "      <td>130.0</td>\n",
       "      <td>236.0</td>\n",
       "      <td>0.0</td>\n",
       "      <td>2.0</td>\n",
       "      <td>174.0</td>\n",
       "      <td>0.0</td>\n",
       "      <td>0.0</td>\n",
       "      <td>2.0</td>\n",
       "      <td>1.0</td>\n",
       "      <td>3.0</td>\n",
       "      <td>1</td>\n",
       "    </tr>\n",
       "    <tr>\n",
       "      <th>302</th>\n",
       "      <td>38.0</td>\n",
       "      <td>1.0</td>\n",
       "      <td>3.0</td>\n",
       "      <td>138.0</td>\n",
       "      <td>175.0</td>\n",
       "      <td>0.0</td>\n",
       "      <td>0.0</td>\n",
       "      <td>173.0</td>\n",
       "      <td>0.0</td>\n",
       "      <td>0.0</td>\n",
       "      <td>1.0</td>\n",
       "      <td>NaN</td>\n",
       "      <td>3.0</td>\n",
       "      <td>0</td>\n",
       "    </tr>\n",
       "  </tbody>\n",
       "</table>\n",
       "<p>303 rows × 14 columns</p>\n",
       "</div>"
      ],
      "text/plain": [
       "      age  sex   cp  trestbp   chol  fbs  restecg  thalach  exang  oldpeak  \\\n",
       "0    63.0  1.0  1.0    145.0  233.0  1.0      2.0    150.0    0.0      2.3   \n",
       "1    67.0  1.0  4.0    160.0  286.0  0.0      2.0    108.0    1.0      1.5   \n",
       "2    67.0  1.0  4.0    120.0  229.0  0.0      2.0    129.0    1.0      2.6   \n",
       "3    37.0  1.0  3.0    130.0  250.0  0.0      0.0    187.0    0.0      3.5   \n",
       "4    41.0  0.0  2.0    130.0  204.0  0.0      2.0    172.0    0.0      1.4   \n",
       "5    56.0  1.0  2.0    120.0  236.0  0.0      0.0    178.0    0.0      0.8   \n",
       "6    62.0  0.0  4.0    140.0  268.0  0.0      2.0    160.0    0.0      3.6   \n",
       "7    57.0  0.0  4.0    120.0  354.0  0.0      0.0    163.0    1.0      0.6   \n",
       "8    63.0  1.0  4.0    130.0  254.0  0.0      2.0    147.0    0.0      1.4   \n",
       "9    53.0  1.0  4.0    140.0  203.0  1.0      2.0    155.0    1.0      3.1   \n",
       "10   57.0  1.0  4.0    140.0  192.0  0.0      0.0    148.0    0.0      0.4   \n",
       "11   56.0  0.0  2.0    140.0  294.0  0.0      2.0    153.0    0.0      1.3   \n",
       "12   56.0  1.0  3.0    130.0  256.0  1.0      2.0    142.0    1.0      0.6   \n",
       "13   44.0  1.0  2.0    120.0  263.0  0.0      0.0    173.0    0.0      0.0   \n",
       "14   52.0  1.0  3.0    172.0  199.0  1.0      0.0    162.0    0.0      0.5   \n",
       "15   57.0  1.0  3.0    150.0  168.0  0.0      0.0    174.0    0.0      1.6   \n",
       "16   48.0  1.0  2.0    110.0  229.0  0.0      0.0    168.0    0.0      1.0   \n",
       "17   54.0  1.0  4.0    140.0  239.0  0.0      0.0    160.0    0.0      1.2   \n",
       "18   48.0  0.0  3.0    130.0  275.0  0.0      0.0    139.0    0.0      0.2   \n",
       "19   49.0  1.0  2.0    130.0  266.0  0.0      0.0    171.0    0.0      0.6   \n",
       "20   64.0  1.0  1.0    110.0  211.0  0.0      2.0    144.0    1.0      1.8   \n",
       "21   58.0  0.0  1.0    150.0  283.0  1.0      2.0    162.0    0.0      1.0   \n",
       "22   58.0  1.0  2.0    120.0  284.0  0.0      2.0    160.0    0.0      1.8   \n",
       "23   58.0  1.0  3.0    132.0  224.0  0.0      2.0    173.0    0.0      3.2   \n",
       "24   60.0  1.0  4.0    130.0  206.0  0.0      2.0    132.0    1.0      2.4   \n",
       "25   50.0  0.0  3.0    120.0  219.0  0.0      0.0    158.0    0.0      1.6   \n",
       "26   58.0  0.0  3.0    120.0  340.0  0.0      0.0    172.0    0.0      0.0   \n",
       "27   66.0  0.0  1.0    150.0  226.0  0.0      0.0    114.0    0.0      2.6   \n",
       "28   43.0  1.0  4.0    150.0  247.0  0.0      0.0    171.0    0.0      1.5   \n",
       "29   40.0  1.0  4.0    110.0  167.0  0.0      2.0    114.0    1.0      2.0   \n",
       "..    ...  ...  ...      ...    ...  ...      ...      ...    ...      ...   \n",
       "273  71.0  0.0  4.0    112.0  149.0  0.0      0.0    125.0    0.0      1.6   \n",
       "274  59.0  1.0  1.0    134.0  204.0  0.0      0.0    162.0    0.0      0.8   \n",
       "275  64.0  1.0  1.0    170.0  227.0  0.0      2.0    155.0    0.0      0.6   \n",
       "276  66.0  0.0  3.0    146.0  278.0  0.0      2.0    152.0    0.0      0.0   \n",
       "277  39.0  0.0  3.0    138.0  220.0  0.0      0.0    152.0    0.0      0.0   \n",
       "278  57.0  1.0  2.0    154.0  232.0  0.0      2.0    164.0    0.0      0.0   \n",
       "279  58.0  0.0  4.0    130.0  197.0  0.0      0.0    131.0    0.0      0.6   \n",
       "280  57.0  1.0  4.0    110.0  335.0  0.0      0.0    143.0    1.0      3.0   \n",
       "281  47.0  1.0  3.0    130.0  253.0  0.0      0.0    179.0    0.0      0.0   \n",
       "282  55.0  0.0  4.0    128.0  205.0  0.0      1.0    130.0    1.0      2.0   \n",
       "283  35.0  1.0  2.0    122.0  192.0  0.0      0.0    174.0    0.0      0.0   \n",
       "284  61.0  1.0  4.0    148.0  203.0  0.0      0.0    161.0    0.0      0.0   \n",
       "285  58.0  1.0  4.0    114.0  318.0  0.0      1.0    140.0    0.0      4.4   \n",
       "286  58.0  0.0  4.0    170.0  225.0  1.0      2.0    146.0    1.0      2.8   \n",
       "287  58.0  1.0  2.0    125.0  220.0  0.0      0.0    144.0    0.0      0.4   \n",
       "288  56.0  1.0  2.0    130.0  221.0  0.0      2.0    163.0    0.0      0.0   \n",
       "289  56.0  1.0  2.0    120.0  240.0  0.0      0.0    169.0    0.0      0.0   \n",
       "290  67.0  1.0  3.0    152.0  212.0  0.0      2.0    150.0    0.0      0.8   \n",
       "291  55.0  0.0  2.0    132.0  342.0  0.0      0.0    166.0    0.0      1.2   \n",
       "292  44.0  1.0  4.0    120.0  169.0  0.0      0.0    144.0    1.0      2.8   \n",
       "293  63.0  1.0  4.0    140.0  187.0  0.0      2.0    144.0    1.0      4.0   \n",
       "294  63.0  0.0  4.0    124.0  197.0  0.0      0.0    136.0    1.0      0.0   \n",
       "295  41.0  1.0  2.0    120.0  157.0  0.0      0.0    182.0    0.0      0.0   \n",
       "296  59.0  1.0  4.0    164.0  176.0  1.0      2.0     90.0    0.0      1.0   \n",
       "297  57.0  0.0  4.0    140.0  241.0  0.0      0.0    123.0    1.0      0.2   \n",
       "298  45.0  1.0  1.0    110.0  264.0  0.0      0.0    132.0    0.0      1.2   \n",
       "299  68.0  1.0  4.0    144.0  193.0  1.0      0.0    141.0    0.0      3.4   \n",
       "300  57.0  1.0  4.0    130.0  131.0  0.0      0.0    115.0    1.0      1.2   \n",
       "301  57.0  0.0  2.0    130.0  236.0  0.0      2.0    174.0    0.0      0.0   \n",
       "302  38.0  1.0  3.0    138.0  175.0  0.0      0.0    173.0    0.0      0.0   \n",
       "\n",
       "     slope   ca  thal  class_label  \n",
       "0      3.0  0.0   6.0            0  \n",
       "1      2.0  3.0   3.0            1  \n",
       "2      2.0  2.0   7.0            1  \n",
       "3      3.0  0.0   3.0            0  \n",
       "4      1.0  0.0   3.0            0  \n",
       "5      1.0  0.0   3.0            0  \n",
       "6      3.0  2.0   3.0            1  \n",
       "7      1.0  0.0   3.0            0  \n",
       "8      2.0  1.0   7.0            1  \n",
       "9      3.0  0.0   7.0            1  \n",
       "10     2.0  0.0   6.0            0  \n",
       "11     2.0  0.0   3.0            0  \n",
       "12     2.0  1.0   6.0            1  \n",
       "13     1.0  0.0   7.0            0  \n",
       "14     1.0  0.0   7.0            0  \n",
       "15     1.0  0.0   3.0            0  \n",
       "16     3.0  0.0   7.0            1  \n",
       "17     1.0  0.0   3.0            0  \n",
       "18     1.0  0.0   3.0            0  \n",
       "19     1.0  0.0   3.0            0  \n",
       "20     2.0  0.0   3.0            0  \n",
       "21     1.0  0.0   3.0            0  \n",
       "22     2.0  0.0   3.0            1  \n",
       "23     1.0  2.0   7.0            1  \n",
       "24     2.0  2.0   7.0            1  \n",
       "25     2.0  0.0   3.0            0  \n",
       "26     1.0  0.0   3.0            0  \n",
       "27     3.0  0.0   3.0            0  \n",
       "28     1.0  0.0   3.0            0  \n",
       "29     2.0  0.0   7.0            1  \n",
       "..     ...  ...   ...          ...  \n",
       "273    2.0  0.0   3.0            0  \n",
       "274    1.0  2.0   3.0            1  \n",
       "275    2.0  0.0   7.0            0  \n",
       "276    2.0  1.0   3.0            0  \n",
       "277    2.0  0.0   3.0            0  \n",
       "278    1.0  1.0   3.0            1  \n",
       "279    2.0  0.0   3.0            0  \n",
       "280    2.0  1.0   7.0            1  \n",
       "281    1.0  0.0   3.0            0  \n",
       "282    2.0  1.0   7.0            1  \n",
       "283    1.0  0.0   3.0            0  \n",
       "284    1.0  1.0   7.0            1  \n",
       "285    3.0  3.0   6.0            1  \n",
       "286    2.0  2.0   6.0            1  \n",
       "287    2.0  NaN   7.0            0  \n",
       "288    1.0  0.0   7.0            0  \n",
       "289    3.0  0.0   3.0            0  \n",
       "290    2.0  0.0   7.0            1  \n",
       "291    1.0  0.0   3.0            0  \n",
       "292    3.0  0.0   6.0            1  \n",
       "293    1.0  2.0   7.0            1  \n",
       "294    2.0  0.0   3.0            1  \n",
       "295    1.0  0.0   3.0            0  \n",
       "296    2.0  2.0   6.0            1  \n",
       "297    2.0  0.0   7.0            1  \n",
       "298    2.0  0.0   7.0            1  \n",
       "299    2.0  2.0   7.0            1  \n",
       "300    2.0  1.0   7.0            1  \n",
       "301    2.0  1.0   3.0            1  \n",
       "302    1.0  NaN   3.0            0  \n",
       "\n",
       "[303 rows x 14 columns]"
      ]
     },
     "execution_count": 6,
     "metadata": {},
     "output_type": "execute_result"
    }
   ],
   "source": [
    "#change missing indicatior to NaN\n",
    "heart.replace('?', np.nan)"
   ]
  },
  {
   "cell_type": "code",
   "execution_count": 7,
   "metadata": {},
   "outputs": [
    {
     "data": {
      "text/plain": [
       "age            0\n",
       "sex            0\n",
       "cp             0\n",
       "trestbp        0\n",
       "chol           0\n",
       "fbs            0\n",
       "restecg        0\n",
       "thalach        0\n",
       "exang          0\n",
       "oldpeak        0\n",
       "slope          0\n",
       "ca             4\n",
       "thal           2\n",
       "class_label    0\n",
       "dtype: int64"
      ]
     },
     "execution_count": 7,
     "metadata": {},
     "output_type": "execute_result"
    }
   ],
   "source": [
    "#identify features with NaNs ##as above see which columns have missing values \n",
    "heart.isnull().sum()"
   ]
  },
  {
   "cell_type": "code",
   "execution_count": 8,
   "metadata": {
    "collapsed": true
   },
   "outputs": [],
   "source": [
    "#imputation \n",
    "from sklearn.preprocessing import Imputer\n",
    "\n",
    "#attribute processing for imputation\n",
    "heart.values\n",
    "\n",
    "#imputation using mode as missing values are in categorical variables \n",
    "imr = Imputer(missing_values='NaN', strategy='most_frequent', axis=0)\n",
    "imr = imr.fit(heart)\n",
    "imputed_data = imr.transform(heart.values)\n",
    "\n",
    "#turn back into dataframe \n",
    "heart_imp = pd.DataFrame(imputed_data)\n",
    "heart_imp.columns = heart.columns\n",
    "heart_imp.index = heart.index\n"
   ]
  },
  {
   "cell_type": "code",
   "execution_count": 9,
   "metadata": {},
   "outputs": [
    {
     "data": {
      "text/plain": [
       "age            0\n",
       "sex            0\n",
       "cp             0\n",
       "trestbp        0\n",
       "chol           0\n",
       "fbs            0\n",
       "restecg        0\n",
       "thalach        0\n",
       "exang          0\n",
       "oldpeak        0\n",
       "slope          0\n",
       "ca             0\n",
       "thal           0\n",
       "class_label    0\n",
       "dtype: int64"
      ]
     },
     "execution_count": 9,
     "metadata": {},
     "output_type": "execute_result"
    }
   ],
   "source": [
    "#check imputed dataset for missing values\n",
    "heart_imp.isnull().sum()"
   ]
  },
  {
   "cell_type": "markdown",
   "metadata": {},
   "source": [
    "# Data cleansing - Outliers "
   ]
  },
  {
   "cell_type": "code",
   "execution_count": 25,
   "metadata": {},
   "outputs": [
    {
     "data": {
      "image/png": "[encoded data removed]",
      "text/plain": [
       "<matplotlib.figure.Figure at 0x214bf0c95c0>"
      ]
     },
     "metadata": {},
     "output_type": "display_data"
    }
   ],
   "source": [
    "#exploring outliers through boxplots \n",
    "plt.figure(figsize=(15,15))\n",
    "plt.boxplot([heart_imp['age'],heart_imp['trestbp'],heart_imp['chol'],heart_imp['oldpeak'],heart_imp['thalach']],positions=(0,1,2,3,4),\n",
    "            widths = 0.2, showfliers=True)\n",
    "plt.grid()\n",
    "plt.xticks([0,1,2,3,4],['age','trestbp','chol','oldpeak','thalach'])\n",
    "plt.ylabel('value')\n",
    "\n",
    "\n",
    "plt.show()\n",
    "\n"
   ]
  },
  {
   "cell_type": "code",
   "execution_count": 18,
   "metadata": {},
   "outputs": [
    {
     "data": {
      "text/plain": [
       "age             67.0\n",
       "sex              0.0\n",
       "cp               2.0\n",
       "trestbp        115.0\n",
       "chol           564.0\n",
       "fbs              0.0\n",
       "restecg          2.0\n",
       "thalach        160.0\n",
       "exang            0.0\n",
       "oldpeak          1.6\n",
       "slope            1.0\n",
       "ca               0.0\n",
       "thal             2.0\n",
       "class_label      0.0\n",
       "Name: 152, dtype: float64"
      ]
     },
     "execution_count": 18,
     "metadata": {},
     "output_type": "execute_result"
    }
   ],
   "source": [
    "# potential outlier for cholestrol \n",
    "heart_imp.loc[heart_imp['chol'].idxmax()]"
   ]
  },
  {
   "cell_type": "markdown",
   "metadata": {},
   "source": [
    "\n",
    "Categorical features recorded as floats will be recoded as integers and rescaled 0 - n.  "
   ]
  },
  {
   "cell_type": "code",
   "execution_count": 11,
   "metadata": {},
   "outputs": [
    {
     "data": {
      "text/plain": [
       "array([0, 1, 1, 0, 0, 0, 1, 0, 1, 1, 0, 0, 1, 0, 0, 0, 1, 0, 0, 0, 0, 0, 1,\n",
       "       1, 1, 0, 0, 0, 0, 1, 0, 1, 1, 0, 0, 0, 1, 1, 1, 0, 1, 0, 0, 0, 1, 1,\n",
       "       0, 1, 0, 0, 0, 0, 1, 0, 1, 1, 1, 1, 0, 0, 1, 0, 1, 0, 1, 1, 1, 0, 1,\n",
       "       1, 0, 1, 1, 1, 1, 0, 1, 0, 0, 1, 0, 0, 0, 1, 0, 0, 0, 0, 0, 0, 0, 1,\n",
       "       0, 0, 0, 1, 1, 1, 0, 0, 0, 0, 0, 0, 1, 0, 1, 1, 1, 1, 1, 1, 0, 1, 1,\n",
       "       0, 0, 0, 1, 1, 1, 1, 0, 1, 1, 0, 1, 1, 0, 0, 0, 0, 0, 0, 0, 0, 1, 1,\n",
       "       1, 0, 0, 1, 0, 1, 0, 1, 1, 0, 0, 0, 0, 0, 0, 1, 1, 1, 1, 1, 1, 0, 0,\n",
       "       1, 0, 0, 0, 0, 0, 0, 1, 0, 1, 0, 1, 0, 1, 1, 0, 1, 0, 0, 1, 1, 0, 0,\n",
       "       1, 0, 0, 1, 1, 1, 0, 1, 1, 1, 0, 1, 0, 0, 0, 1, 0, 0, 0, 0, 0, 1, 1,\n",
       "       1, 0, 1, 0, 1, 0, 1, 1, 0, 0, 0, 0, 0, 0, 0, 0, 1, 1, 0, 0, 0, 1, 1,\n",
       "       0, 1, 1, 0, 0, 1, 1, 1, 0, 0, 0, 0, 0, 1, 0, 1, 1, 1, 1, 0, 0, 1, 0,\n",
       "       0, 0, 0, 0, 0, 0, 1, 0, 1, 0, 0, 1, 1, 1, 1, 1, 0, 1, 0, 1, 0, 1, 0,\n",
       "       0, 0, 1, 0, 1, 0, 1, 0, 1, 1, 1, 0, 0, 0, 1, 0, 1, 1, 1, 0, 1, 1, 1,\n",
       "       1, 1, 1, 0])"
      ]
     },
     "execution_count": 11,
     "metadata": {},
     "output_type": "execute_result"
    }
   ],
   "source": [
    "\n",
    "#split new imputed dataset\n",
    "X_imp, y_imp = heart_imp.iloc[:,0:13].values, heart_imp.iloc[:,-1].values\n",
    "y_imp.astype(int)#class label"
   ]
  },
  {
   "cell_type": "markdown",
   "metadata": {},
   "source": [
    "# Creating Test and Training datasets"
   ]
  },
  {
   "cell_type": "code",
   "execution_count": 12,
   "metadata": {
    "collapsed": true
   },
   "outputs": [],
   "source": [
    "from sklearn.model_selection import train_test_split\n",
    "\n",
    "#splitting from imputed X and Y \n",
    "train, test, = \\\n",
    "train_test_split(heart_imp, test_size=0.3, random_state=0)\n",
    "\n",
    "# define y_test and y_train\n",
    "\n",
    "y_train = train.iloc[:,-1]\n",
    "y_test = test.iloc[:,-1]\n",
    "\n",
    "#raw data \n",
    "X_train, X_test = \\\n",
    "train_test_split(X_imp, test_size=0.3, random_state=0) #all 13 features NO preprocessing"
   ]
  },
  {
   "cell_type": "code",
   "execution_count": 47,
   "metadata": {},
   "outputs": [
    {
     "data": {
      "text/plain": [
       "212"
      ]
     },
     "execution_count": 47,
     "metadata": {},
     "output_type": "execute_result"
    }
   ],
   "source": [
    "#size of y_train\n",
    "y_train.count()"
   ]
  },
  {
   "cell_type": "code",
   "execution_count": 44,
   "metadata": {},
   "outputs": [
    {
     "data": {
      "text/plain": [
       "95.0"
      ]
     },
     "execution_count": 44,
     "metadata": {},
     "output_type": "execute_result"
    }
   ],
   "source": [
    "# proportion of outcome in y_train\n",
    "y_train.sum()   # 95 class (43%) 1, 120 class 0 (57%)"
   ]
  },
  {
   "cell_type": "code",
   "execution_count": 46,
   "metadata": {},
   "outputs": [
    {
     "data": {
      "text/plain": [
       "91"
      ]
     },
     "execution_count": 46,
     "metadata": {},
     "output_type": "execute_result"
    }
   ],
   "source": [
    "#size of y_test\n",
    "y_test.count()"
   ]
  },
  {
   "cell_type": "code",
   "execution_count": 45,
   "metadata": {},
   "outputs": [
    {
     "data": {
      "text/plain": [
       "44.0"
      ]
     },
     "execution_count": 45,
     "metadata": {},
     "output_type": "execute_result"
    }
   ],
   "source": [
    "# proportion of outcome in y_test\n",
    "y_test.sum()   # 44 class 1 (48.4), 47 class 0 (51.6%)"
   ]
  },
  {
   "cell_type": "markdown",
   "metadata": {},
   "source": [
    "# All variations of X training and test set \n",
    "\n",
    "# y sets \n",
    "\n",
    "y_train = train.iloc[:,-1]\n",
    "\n",
    "y_test = test.iloc[:,-1]\n",
    "\n",
    "# U - unprocessed \n",
    "\n",
    "X_train, X_test  <---------------all 13 features NO preprocessing\n",
    "\n",
    "# PO - preprocesss only  \n",
    " \n",
    "X_train_p, X_test_p <--------------all 13 original features rescaled see Feature preprocessing\n",
    "\n",
    "# PS - preprocessing and selection (only on training data)\n",
    "\n",
    "X_train_p_s  <----------- only on training data, rescaled feautres include 7 original features\n",
    "\n",
    "X_test_p_S <---------- rescaled to the same 7 feautres but not been selected on, will see if selection on training reflects test\n",
    "\n",
    "\n",
    "# PO + PCA (only on training data)\n",
    "\n",
    "X_train_p_pca <------------- reduce 28 to 12 features NO SELECTION \n",
    "\n",
    "# PS + PCA (only on training data)\n",
    "\n",
    "X_train_p_s_pca <------------- reduce 18 to 8 features "
   ]
  },
  {
   "cell_type": "markdown",
   "metadata": {},
   "source": [
    "# Feature preprocessing  - Hot encoding and Standardisation \n",
    "\n",
    "One hot encoding to be performed on non ordinal categorical data\n",
    "\n",
    "continous features are scaled using a standard scaler (subtract mean\n",
    "and divide by standard deviation)\n",
    "\n",
    "class label left as is\n",
    "\n",
    "performed seperately on training and test dataset \n"
   ]
  },
  {
   "cell_type": "code",
   "execution_count": 13,
   "metadata": {
    "collapsed": true
   },
   "outputs": [],
   "source": [
    "\n",
    "from sklearn.preprocessing import OneHotEncoder, StandardScaler\n",
    "\n",
    "'age','sex','cp','trestbp','chol', 'fbs', 'restecg', 'thalach', 'exang', 'oldpeak', 'slope', 'ca','thal', 'class_label'\n",
    "\n",
    "columns_to_encode = ['sex','cp', 'fbs', 'restecg', 'exang', 'slope', 'ca','thal']\n",
    "columns_to_scale  = ['age','trestbp','chol', 'thalach', 'oldpeak']\n",
    "class_columns =  ['class_label']\n",
    "\n",
    "# Instantiate encoder/scaler\n",
    "scaler = StandardScaler()\n",
    "ohe    = OneHotEncoder(sparse=False)\n",
    "\n",
    "# Scale and Encode Separate Columns FOR X TRAIN \n",
    "scaled_columns  = scaler.fit_transform(train[columns_to_scale]) \n",
    "encoded_columns =    ohe.fit_transform(train[columns_to_encode])\n",
    "\n",
    "# Concatenate (Column-Bind) Processed Columns Back Together\n",
    "X_train_p = np.concatenate([scaled_columns, encoded_columns], axis=1)   ## X_train preprocessed created\n",
    "\n",
    "\n",
    "# Scale and Encode Separate Columns #FOR X_TEST\n",
    "scaled_columns  = scaler.transform(test[columns_to_scale]) \n",
    "encoded_columns =    ohe.transform(test[columns_to_encode])\n",
    "\n",
    "# Concatenate (Column-Bind) Processed Columns Back Together\n",
    "X_test_p = np.concatenate([scaled_columns, encoded_columns], axis=1) ## X_test preprocessed created\n",
    "\n",
    "\n"
   ]
  },
  {
   "cell_type": "markdown",
   "metadata": {
    "collapsed": true
   },
   "source": [
    "# Feature selection - RFE\n"
   ]
  },
  {
   "cell_type": "markdown",
   "metadata": {
    "collapsed": true
   },
   "source": [
    "using recersive feature elimination with svm, on scaled data"
   ]
  },
  {
   "cell_type": "code",
   "execution_count": 14,
   "metadata": {
    "collapsed": true
   },
   "outputs": [],
   "source": [
    "from sklearn.feature_selection import RFECV\n",
    "from sklearn.svm import SVC\n",
    "from sklearn.model_selection import StratifiedKFold\n"
   ]
  },
  {
   "cell_type": "code",
   "execution_count": 15,
   "metadata": {},
   "outputs": [
    {
     "name": "stdout",
     "output_type": "stream",
     "text": [
      "Optimal number of features : 7\n",
      "[False False False False  True False False  True False  True False False\n",
      " False False False False  True False False  True False  True False False\n",
      " False False False  True]\n",
      "[19  5 13 18  1 14 16  1 12  1  4 11  3 17 22 20  1 10  2  1 15  1 21  6  7\n",
      "  8  9  1]\n"
     ]
    },
    {
     "data": {
      "image/png": "[encoded data removed]",
      "text/plain": [
       "<matplotlib.figure.Figure at 0x2c197681fd0>"
      ]
     },
     "metadata": {},
     "output_type": "display_data"
    }
   ],
   "source": [
    "#model \n",
    "svc = SVC(kernel=\"linear\")\n",
    "\n",
    "# The \"accuracy\" scoring is proportional to the number of correct\n",
    "# classifications\n",
    "rfecv = RFECV(estimator=svc, step=1, cv=StratifiedKFold(10),\n",
    "              scoring='accuracy')\n",
    "rfecv.fit(X_train_p, y_train)\n",
    "\n",
    "print(\"Optimal number of features : %d\" % rfecv.n_features_)\n",
    "print(rfecv.support_)\n",
    "print(rfecv.ranking_)\n",
    "\n",
    "# Plot number of features VS. cross-validation scores\n",
    "plt.figure()\n",
    "plt.xlabel(\"Number of features selected\")\n",
    "plt.ylabel(\"Cross validation score (nb of correct classifications)\")\n",
    "plt.plot(range(1, len(rfecv.grid_scores_) + 1), rfecv.grid_scores_)\n",
    "plt.show()\n"
   ]
  },
  {
   "cell_type": "markdown",
   "metadata": {},
   "source": [
    "Indices of features contributing are 4,7,9,16,19,21,27\n",
    "which are 6 initial variables : OLD PEAK , CP , EXCHANG, SLOPE , CA , THAL "
   ]
  },
  {
   "cell_type": "markdown",
   "metadata": {},
   "source": [
    "# Feature selection-Univariate selection "
   ]
  },
  {
   "cell_type": "code",
   "execution_count": 16,
   "metadata": {},
   "outputs": [
    {
     "name": "stdout",
     "output_type": "stream",
     "text": [
      "scores_: [  1.40e+01   4.55e+00   3.73e+00   5.22e+01   5.06e+01   9.53e+00\n",
      "   9.53e+00   1.28e+00   1.37e+01   2.08e+01   6.91e+01   3.06e-02\n",
      "   3.06e-02   2.06e+00   1.50e+00   1.22e+00   6.94e+01   6.94e+01\n",
      "   5.24e+01   4.50e+01   4.90e-01   3.87e+01   3.91e+00   1.09e+01\n",
      "   1.50e+01   7.71e+01   4.54e-01   7.07e+01]\n",
      "pvalues_: [  2.39e-04   3.42e-02   5.47e-02   9.01e-12   1.76e-11   2.30e-03\n",
      "   2.30e-03   2.59e-01   2.75e-04   8.57e-06   1.16e-14   8.61e-01\n",
      "   8.61e-01   1.53e-01   2.22e-01   2.71e-01   1.03e-14   1.03e-14\n",
      "   8.48e-12   1.78e-10   4.85e-01   2.68e-09   4.93e-02   1.13e-03\n",
      "   1.47e-04   5.84e-16   5.01e-01   6.24e-15]\n",
      "selected index: [ 3  4 10 16 17 18 19 25 27]\n"
     ]
    }
   ],
   "source": [
    "from sklearn.feature_selection import SelectKBest\n",
    "from sklearn.feature_selection import f_classif\n",
    "\n",
    "# feature extraction\n",
    "test = SelectKBest(score_func=f_classif, k=9) # print 9 best features \n",
    "fit = test.fit(X_train_p, y_train)\n",
    "# summarize scores\n",
    "np.set_printoptions(precision=2)\n",
    "print(\"scores_:\",fit.scores_)\n",
    "print(\"pvalues_:\",fit.pvalues_)\n",
    "print(\"selected index:\",fit.get_support(True))"
   ]
  },
  {
   "cell_type": "markdown",
   "metadata": {},
   "source": [
    "Indices of these values rank similar features with inclusion of THALACH: \n",
    "THALACH, OLD PEAK , CP , EXCHANG , SLOPE , THAL "
   ]
  },
  {
   "cell_type": "markdown",
   "metadata": {},
   "source": [
    "Therefore variables that will included in final model are: \n",
    "CP, EXCHAG , SLOPE , CA, THAL, OLD PEAK , THALACH - 7 variables \n",
    "\n",
    "will keep all dummy variables  for each category even if its indices individually been selected "
   ]
  },
  {
   "cell_type": "markdown",
   "metadata": {},
   "source": [
    "# new X_train_p_s and X_test_p_s\n",
    "X train features now preprocessed and scaled "
   ]
  },
  {
   "cell_type": "code",
   "execution_count": 17,
   "metadata": {
    "collapsed": true
   },
   "outputs": [],
   "source": [
    "#so create dataset with reduced feature space \n",
    "selected_feature_indices = 3,4,7,8,9,10,16,17,18,19,20,21,22,23,23,25,26,27 #ofX_train_p\n",
    "\n",
    "X_train_p_s = X_train_p[:,selected_feature_indices] #impliment on train\n",
    "\n",
    "X_test_p_s = X_test_p[:,selected_feature_indices] #impliment on test to see if feautre selection accurately reflects\n",
    "                                                    #test data feature selection\n",
    "\n",
    "\n",
    "\n"
   ]
  },
  {
   "cell_type": "markdown",
   "metadata": {},
   "source": [
    "# PCA on PS training set (X_train_p_s)\n",
    "(with selection and preprocessing (features n = 18)"
   ]
  },
  {
   "cell_type": "code",
   "execution_count": 18,
   "metadata": {},
   "outputs": [
    {
     "data": {
      "text/plain": [
       "array([ 0.38,  0.53,  0.63,  0.7 ,  0.76,  0.82,  0.87,  0.91,  0.94,\n",
       "        0.96,  0.98,  0.99,  1.  ,  1.  ,  1.  ,  1.  ,  1.  ,  1.  ])"
      ]
     },
     "execution_count": 18,
     "metadata": {},
     "output_type": "execute_result"
    }
   ],
   "source": [
    "from sklearn.decomposition import PCA\n",
    "pca = PCA()\n",
    "pca_xps = pca.fit_transform(X_train_p_s)\n",
    "pca.explained_variance_ratio_\n",
    "pca.explained_variance_ratio_.cumsum()"
   ]
  },
  {
   "cell_type": "code",
   "execution_count": 19,
   "metadata": {},
   "outputs": [
    {
     "data": {
      "image/png": "[encoded data removed]",
      "text/plain": [
       "<matplotlib.figure.Figure at 0x2c19e2c7d30>"
      ]
     },
     "metadata": {},
     "output_type": "display_data"
    }
   ],
   "source": [
    "plt.figure(figsize=(12,12))\n",
    "plt.bar(np.arange(18), pca.explained_variance_ratio_, alpha=0.5, align='center')\n",
    "plt.step(np.arange(18), np.cumsum(pca.explained_variance_ratio_), where='mid')\n",
    "plt.ylabel('Explained variance ratio')\n",
    "plt.xlabel('Principal components')\n",
    "plt.show()"
   ]
  },
  {
   "cell_type": "code",
   "execution_count": 20,
   "metadata": {
    "collapsed": true
   },
   "outputs": [],
   "source": [
    "#reduce dimension to 8 components \n",
    "\n",
    "# Create a pca object with the 8 components as a parameter\n",
    "pca = PCA(n_components=8)\n",
    "\n",
    "# Fit the PCA and transform the data\n",
    "X_train_p_s_pca = pca.fit_transform(X_train_p_s)"
   ]
  },
  {
   "cell_type": "markdown",
   "metadata": {},
   "source": [
    "# PCA on PO dataset (X_train_p)\n",
    "(features = 28)"
   ]
  },
  {
   "cell_type": "code",
   "execution_count": 21,
   "metadata": {},
   "outputs": [
    {
     "data": {
      "text/plain": [
       "array([ 0.24,  0.38,  0.48,  0.58,  0.64,  0.7 ,  0.75,  0.79,  0.83,\n",
       "        0.86,  0.89,  0.91,  0.93,  0.95,  0.96,  0.97,  0.98,  0.99,\n",
       "        1.  ,  1.  ,  1.  ,  1.  ,  1.  ,  1.  ,  1.  ,  1.  ,  1.  ,  1.  ])"
      ]
     },
     "execution_count": 21,
     "metadata": {},
     "output_type": "execute_result"
    }
   ],
   "source": [
    "from sklearn.decomposition import PCA\n",
    "pca = PCA()\n",
    "pca_xp = pca.fit_transform(X_train_p)\n",
    "pca.explained_variance_ratio_\n",
    "pca.explained_variance_ratio_.cumsum()"
   ]
  },
  {
   "cell_type": "code",
   "execution_count": 22,
   "metadata": {},
   "outputs": [
    {
     "data": {
      "image/png": "[encoded data removed]",
      "text/plain": [
       "<matplotlib.figure.Figure at 0x2c19e2c7a90>"
      ]
     },
     "metadata": {},
     "output_type": "display_data"
    }
   ],
   "source": [
    "plt.figure(figsize=(12,12))\n",
    "plt.bar(np.arange(28), pca.explained_variance_ratio_, alpha=0.5, align='center')\n",
    "plt.step(np.arange(28), np.cumsum(pca.explained_variance_ratio_), where='mid')\n",
    "plt.ylabel('Explained variance ratio')\n",
    "plt.xlabel('Principal components')\n",
    "plt.show()"
   ]
  },
  {
   "cell_type": "code",
   "execution_count": 23,
   "metadata": {
    "collapsed": true
   },
   "outputs": [],
   "source": [
    "#reduce dimension to 12 components \n",
    "\n",
    "# Create a pca object with the 12 components as a parameter\n",
    "pca = PCA(n_components=12)\n",
    "\n",
    "# Fit the PCA and transform the data\n",
    "X_train_p_pca = pca.fit_transform(X_train_p)"
   ]
  },
  {
   "cell_type": "markdown",
   "metadata": {},
   "source": [
    "# All variations of X training and test set \n",
    "\n",
    "# y sets \n",
    "\n",
    "y_train = train.iloc[:,-1]\n",
    "\n",
    "y_test = test.iloc[:,-1]\n",
    "\n",
    "# U - unprocessed \n",
    "\n",
    "X_train, X_test  <---------------all 13 features NO preprocessing\n",
    "\n",
    "# PO - preprocesss only  \n",
    " \n",
    "X_train_p, X_test_p <--------------all 13 original features rescaled see Feature preprocessing\n",
    "\n",
    "# PS - preprocessing and selection (only on training data)\n",
    "\n",
    "X_train_p_s  <----------- only on training data, rescaled feautres include 7 original features\n",
    "\n",
    "X_test_p_S <---------- rescaled to the same 7 feautres but not been selected on, will see if selection on training reflects test\n",
    "\n",
    "\n",
    "# PO + PCA (only on training data)\n",
    "\n",
    "X_train_p_pca <------------- reduce 28 to 12 features NO SELECTION \n",
    "\n",
    "# PS + PCA (only on training data)\n",
    "\n",
    "X_train_p_s_pca <------------- reduce 18 to 8 features "
   ]
  },
  {
   "cell_type": "markdown",
   "metadata": {},
   "source": [
    "# Unadjusted classifier performance on U training data (X_train)"
   ]
  },
  {
   "cell_type": "code",
   "execution_count": 24,
   "metadata": {},
   "outputs": [
    {
     "name": "stdout",
     "output_type": "stream",
     "text": [
      "\n",
      "\n",
      "***results***\n",
      "SVM: 0.552013 (0.009905)\n",
      "Dummy: 0.552013 (0.009905)\n",
      "KNN: 0.640606 (0.084032)\n",
      "\n",
      "10 -Fold cross-validation accuracy score for the training data unscaled\n"
     ]
    },
    {
     "name": "stderr",
     "output_type": "stream",
     "text": [
      "C:\\Users\\Python\\Anaconda3\\lib\\site-packages\\sklearn\\cross_validation.py:41: DeprecationWarning: This module was deprecated in version 0.18 in favor of the model_selection module into which all the refactored classes and functions are moved. Also note that the interface of the new CV iterators are different from that of this module. This module will be removed in 0.20.\n",
      "  \"This module will be removed in 0.20.\", DeprecationWarning)\n"
     ]
    }
   ],
   "source": [
    "from sklearn.dummy import DummyClassifier # for comparison \n",
    "from sklearn.svm import SVC\n",
    "from sklearn.neighbors import KNeighborsClassifier\n",
    "from sklearn.cross_validation import cross_val_score\n",
    "\n",
    "models = []\n",
    "models.append(('SVM', SVC()))\n",
    "models.append(('Dummy', DummyClassifier(strategy='most_frequent')))\n",
    "models.append(('KNN', KNeighborsClassifier()))\n",
    "\n",
    "\n",
    "#for cross validation 10 fold \n",
    "num_folds = 10\n",
    "\n",
    "num_instances = len(X_train)\n",
    "seed = 7\n",
    "scoring = 'accuracy'\n",
    "results = []\n",
    "names = []\n",
    "msg =str()\n",
    "\n",
    "for name, model in models:\n",
    "    cv_results = cross_val_score(model, X_train, y_train, cv=num_folds)\n",
    "    results.append(cv_results)\n",
    "    names.append(name)\n",
    "    msg = msg + \"%s: %f (%f)\" % (name, cv_results.mean(), cv_results.std()) + '\\n'\n",
    "\n",
    "    \n",
    "print ('\\n\\n***results***')\n",
    "print (msg)\n",
    "print( num_folds, '-Fold cross-validation accuracy score for the training data unscaled')"
   ]
  },
  {
   "cell_type": "markdown",
   "metadata": {},
   "source": [
    "# On  PO (X_train_p)\n",
    "on preprocessed data "
   ]
  },
  {
   "cell_type": "code",
   "execution_count": 25,
   "metadata": {},
   "outputs": [
    {
     "name": "stdout",
     "output_type": "stream",
     "text": [
      "\n",
      "\n",
      "***results***\n",
      "SVM: 0.839848 (0.058190)\n",
      "Dummy: 0.552013 (0.009905)\n",
      "KNN: 0.812597 (0.078042)\n",
      "\n",
      "10 -Fold cross-validation accuracy score for the training data unscaled\n"
     ]
    }
   ],
   "source": [
    "\n",
    "num_instances = len(X_train_p)\n",
    "seed = 7\n",
    "scoring = 'accuracy'\n",
    "results = []\n",
    "names = []\n",
    "msg =str()\n",
    "\n",
    "for name, model in models:\n",
    "    cv_results = cross_val_score(model, X_train_p, y_train, cv=num_folds)\n",
    "    results.append(cv_results)\n",
    "    names.append(name)\n",
    "    msg = msg + \"%s: %f (%f)\" % (name, cv_results.mean(), cv_results.std()) + '\\n'\n",
    "\n",
    "    \n",
    "print ('\\n\\n***results***')\n",
    "print (msg)\n",
    "print( num_folds, '-Fold cross-validation accuracy score for the training data unscaled')"
   ]
  },
  {
   "cell_type": "markdown",
   "metadata": {
    "collapsed": true
   },
   "source": [
    "# On PS (X_train_p_s)"
   ]
  },
  {
   "cell_type": "code",
   "execution_count": 1,
   "metadata": {},
   "outputs": [
    {
     "ename": "NameError",
     "evalue": "name 'X_train_p_s' is not defined",
     "output_type": "error",
     "traceback": [
      "\u001b[1;31m---------------------------------------------------------------------------\u001b[0m",
      "\u001b[1;31mNameError\u001b[0m                                 Traceback (most recent call last)",
      "\u001b[1;32m<ipython-input-1-44e4758675fd>\u001b[0m in \u001b[0;36m<module>\u001b[1;34m()\u001b[0m\n\u001b[0;32m      1\u001b[0m \u001b[1;33m\u001b[0m\u001b[0m\n\u001b[0;32m      2\u001b[0m \u001b[1;33m\u001b[0m\u001b[0m\n\u001b[1;32m----> 3\u001b[1;33m \u001b[0mnum_instances\u001b[0m \u001b[1;33m=\u001b[0m \u001b[0mlen\u001b[0m\u001b[1;33m(\u001b[0m\u001b[0mX_train_p_s\u001b[0m\u001b[1;33m)\u001b[0m\u001b[1;33m\u001b[0m\u001b[0m\n\u001b[0m\u001b[0;32m      4\u001b[0m \u001b[0mseed\u001b[0m \u001b[1;33m=\u001b[0m \u001b[1;36m7\u001b[0m\u001b[1;33m\u001b[0m\u001b[0m\n\u001b[0;32m      5\u001b[0m \u001b[0mscoring\u001b[0m \u001b[1;33m=\u001b[0m \u001b[1;34m'accuracy'\u001b[0m\u001b[1;33m\u001b[0m\u001b[0m\n",
      "\u001b[1;31mNameError\u001b[0m: name 'X_train_p_s' is not defined"
     ]
    }
   ],
   "source": [
    "\n",
    "\n",
    "num_instances = len(X_train_p_s)                                                               \n",
    "seed = 7\n",
    "scoring = 'accuracy'\n",
    "results = []\n",
    "names = []\n",
    "msg =str()\n",
    "\n",
    "for name, model in models:\n",
    "    cv_results = cross_val_score(model, X_train_p_s, y_train, cv=num_folds)\n",
    "    results.append(cv_results)\n",
    "    names.append(name)\n",
    "    msg = msg + \"%s: %f (%f)\" % (name, cv_results.mean(), cv_results.std()) + '\\n'\n",
    "\n",
    "    \n",
    "print ('\\n\\n***results***')\n",
    "print (msg)\n",
    "print( num_folds, '-Fold cross-validation accuracy score for the training data unscaled')"
   ]
  },
  {
   "cell_type": "markdown",
   "metadata": {},
   "source": [
    "# Support Vector Machine (SVM)  "
   ]
  },
  {
   "cell_type": "markdown",
   "metadata": {},
   "source": [
    "Learning on X_train_p_s ansd X_test_p_s # as pca done in pipeline "
   ]
  },
  {
   "cell_type": "code",
   "execution_count": 25,
   "metadata": {},
   "outputs": [
    {
     "name": "stdout",
     "output_type": "stream",
     "text": [
      "--> Model Training Accuracy: 0.859 +/- 0.074\n",
      "--> Tuned Parameters Best Score:  0.867924528302\n",
      "--> Best Parameters: \n",
      " {'clf__C': 10.0, 'clf__gamma': 0.01, 'clf__kernel': 'rbf'}\n"
     ]
    }
   ],
   "source": [
    "#pipeline - data is going into pipeline prescaled but not PCA\n",
    "\n",
    "from sklearn.model_selection import train_test_split\n",
    "from sklearn.decomposition import PCA\n",
    "from sklearn.svm import SVC\n",
    "from sklearn.cross_validation import cross_val_score\n",
    "from sklearn.model_selection import GridSearchCV #hyperparameter tuning\n",
    "from sklearn.pipeline import Pipeline\n",
    "\n",
    "\n",
    "#evaluation metrics \n",
    "from sklearn.metrics import confusion_matrix \n",
    "from sklearn.metrics import accuracy_score\n",
    "from sklearn.metrics import classification_report\n",
    "\n",
    "num_folds = 10\n",
    "\n",
    "#SVM pipeline\n",
    "pipe_svc = Pipeline([('pca', PCA(n_components=8)),('clf', SVC(probability =True, verbose=False))])\n",
    "\n",
    "#fit pipeline to scaled training data\n",
    "pipe_svc.fit(X_train_p_s, y_train)\n",
    "\n",
    "scores = cross_val_score(estimator=pipe_svc, X=X_train_p_s, y=y_train, cv=num_folds, n_jobs=1, verbose=0)\n",
    "print('--> Model Training Accuracy: %.3f +/- %.3f' %(np.mean(scores), np.std(scores)))\n",
    "\n",
    "#Tune hyperparameters \n",
    "param_range = [0.001, 0.01, 0.1, 1.0, 10.0, 100.0, 1000.0]\n",
    "param_grid = [{'clf__C': param_range,'clf__kernel': ['linear']},\n",
    "              {'clf__C': param_range,'clf__gamma': param_range,\n",
    "               'clf__kernel': ['rbf']}]\n",
    "\n",
    "gs_svc = GridSearchCV(estimator=pipe_svc,param_grid=param_grid,\n",
    "                      scoring='accuracy',cv=num_folds,\n",
    "                      n_jobs=1)\n",
    "\n",
    "gs_svc = gs_svc.fit(X_train_p_s, y_train)\n",
    "print('--> Tuned Parameters Best Score: ',gs_svc.best_score_)\n",
    "print('--> Best Parameters: \\n',gs_svc.best_params_)\n",
    "\n",
    "\n"
   ]
  },
  {
   "cell_type": "markdown",
   "metadata": {},
   "source": [
    "# SVM model - evaluation "
   ]
  },
  {
   "cell_type": "code",
   "execution_count": 26,
   "metadata": {},
   "outputs": [
    {
     "name": "stdout",
     "output_type": "stream",
     "text": [
      "--> Model Training Accuracy: 0.868 +/- 0.054\n",
      "--> Accuracy on Test set: 0.80220\n",
      "0.802197802198\n",
      "[[43  4]\n",
      " [14 30]]\n",
      "             precision    recall  f1-score   support\n",
      "\n",
      "        0.0       0.75      0.91      0.83        47\n",
      "        1.0       0.88      0.68      0.77        44\n",
      "\n",
      "avg / total       0.82      0.80      0.80        91\n",
      "\n"
     ]
    }
   ],
   "source": [
    "#using best parameters \n",
    "clf_svc = gs_svc.best_estimator_\n",
    "\n",
    "#final scores training \n",
    "clf_svc.fit(X_train_p_s, y_train)\n",
    "scores = cross_val_score(estimator=clf_svc,\n",
    "                         X=X_train_p_s,\n",
    "                         y=y_train,\n",
    "                         cv=num_folds,\n",
    "                         n_jobs=1)\n",
    "\n",
    "\n",
    "\n",
    "\n",
    "print('--> Model Training Accuracy: %.3f +/- %.3f' %(np.mean(scores), np.std(scores)))\n",
    "print('--> Accuracy on Test set: %.5f' % clf_svc.score(X_test_p_s, y_test))\n",
    "\n",
    "# futher evaluation metrics \n",
    "\n",
    "clf_svc.fit(X_train_p_s, y_train)\n",
    "y_pred = clf_svc.predict(X_test_p_s)\n",
    "\n",
    "print(accuracy_score(y_test, y_pred))\n",
    "print(confusion_matrix(y_test, y_pred))\n",
    "print(classification_report(y_test, y_pred))\n"
   ]
  },
  {
   "cell_type": "markdown",
   "metadata": {},
   "source": [
    "#  SVM Confusion matrix "
   ]
  },
  {
   "cell_type": "code",
   "execution_count": 93,
   "metadata": {},
   "outputs": [
    {
     "data": {
      "image/png": "[encoded data removed]",
      "text/plain": [
       "<matplotlib.figure.Figure at 0x215de1d7e10>"
      ]
     },
     "metadata": {},
     "output_type": "display_data"
    }
   ],
   "source": [
    "from sklearn.metrics import confusion_matrix\n",
    "clf_svc.fit(X_train_p_s, y_train)\n",
    "y_pred = clf_svc.predict(X_test_p_s)\n",
    "confmat = confusion_matrix(y_true=y_test, y_pred=y_pred)\n",
    "\n",
    "# figure\n",
    "fig, ax = plt.subplots(figsize=(2.5, 2.5))\n",
    "ax.matshow(confmat, cmap=plt.cm.Blues, alpha=0.3)\n",
    "for i in range(confmat.shape[0]):\n",
    "    for j in range(confmat.shape[1]):\n",
    "        ax.text(x=j, y=i, s=confmat[i, j], va='center', ha='center')\n",
    "\n",
    "plt.xlabel('predicted label')\n",
    "plt.ylabel('true label')\n",
    "\n",
    "plt.tight_layout()\n",
    "plt.show()"
   ]
  },
  {
   "cell_type": "markdown",
   "metadata": {},
   "source": [
    "# Learning curve for SVM "
   ]
  },
  {
   "cell_type": "code",
   "execution_count": 101,
   "metadata": {
    "collapsed": true
   },
   "outputs": [],
   "source": [
    "# learning plot \n",
    "\n",
    "def plot_learning_curve(estimator, title, X, y, ylim=None, cv=None, scoring=None, obj_line=None,\n",
    "                        n_jobs=1, train_sizes=np.linspace(.1, 1.0, 5)):\n",
    "   \n",
    "\n",
    "    \n",
    "    from sklearn.model_selection import learning_curve\n",
    "    \n",
    "    plt.figure()\n",
    "    plt.title(title)\n",
    "    if ylim is not None:\n",
    "        plt.ylim(*ylim)\n",
    "    plt.xlabel(\"Training examples\")\n",
    "    plt.ylabel(\"Score\")\n",
    "    train_sizes, train_scores, test_scores = learning_curve(\n",
    "        estimator, X, y, cv=cv, scoring=scoring, n_jobs=n_jobs, train_sizes=train_sizes)\n",
    "    train_scores_mean = np.mean(train_scores, axis=1)\n",
    "    train_scores_std  = np.std(train_scores, axis=1)\n",
    "    test_scores_mean  = np.mean(test_scores, axis=1)\n",
    "    test_scores_std   = np.std(test_scores, axis=1)\n",
    "    plt.grid()\n",
    "\n",
    "    plt.fill_between(train_sizes, train_scores_mean - train_scores_std,\n",
    "                     train_scores_mean + train_scores_std, alpha=0.1,\n",
    "                     color=\"r\")\n",
    "    plt.fill_between(train_sizes, test_scores_mean - test_scores_std,\n",
    "                     test_scores_mean + test_scores_std, alpha=0.1, color=\"g\")\n",
    "    plt.plot(train_sizes, train_scores_mean, 'o-', color=\"r\",\n",
    "             label=\"Training score\")\n",
    "    plt.plot(train_sizes, test_scores_mean, 'o-', color=\"g\",\n",
    "             label=\"Cross-validation score\")\n",
    "    \n",
    "    if obj_line:\n",
    "        plt.axhline(y=obj_line, color='blue')\n",
    "\n",
    "    plt.legend(loc=\"best\")\n",
    "    return plt"
   ]
  },
  {
   "cell_type": "code",
   "execution_count": 115,
   "metadata": {},
   "outputs": [
    {
     "data": {
      "text/plain": [
       "<module 'matplotlib.pyplot' from 'C:\\\\Users\\\\Python\\\\Anaconda3\\\\lib\\\\site-packages\\\\matplotlib\\\\pyplot.py'>"
      ]
     },
     "execution_count": 115,
     "metadata": {},
     "output_type": "execute_result"
    },
    {
     "data": {
      "image/png": "[encoded data removed]",
      "text/plain": [
       "<matplotlib.figure.Figure at 0x215e05b3588>"
      ]
     },
     "metadata": {},
     "output_type": "display_data"
    }
   ],
   "source": [
    "#svm learning curve \n",
    "plot_learning_curve(clf_svc,'SVM_Learining_Curve', X_train_p_s, y_train, ylim=None, cv=num_folds, scoring='accuracy', obj_line=None,\n",
    "                        n_jobs=1, train_sizes=np.linspace(.1, 1.0, 5))"
   ]
  },
  {
   "cell_type": "markdown",
   "metadata": {},
   "source": [
    "# effect of SVM gamma hyperparameter on variance "
   ]
  },
  {
   "cell_type": "code",
   "execution_count": 90,
   "metadata": {},
   "outputs": [
    {
     "data": {
      "image/png": "[encoded data removed]",
      "text/plain": [
       "<matplotlib.figure.Figure at 0x215e060f588>"
      ]
     },
     "metadata": {},
     "output_type": "display_data"
    }
   ],
   "source": [
    "# Finding validation accuracy maximum                                                       \n",
    "\n",
    "from sklearn.learning_curve import validation_curve\n",
    "\n",
    "param_range = [0.005, 0.01, 0.05, 0.1, 0.5, 1.0, 10.0, 100.0, 250.0]\n",
    "train_scores, test_scores = validation_curve(\n",
    "                estimator=clf_svc, \n",
    "                X=X_train_p_s, \n",
    "                y=y_train, \n",
    "                param_name='clf__gamma', \n",
    "                param_range=param_range,\n",
    "                cv=num_folds)\n",
    "\n",
    "train_mean = np.mean(train_scores, axis=1)\n",
    "train_std = np.std(train_scores, axis=1)\n",
    "test_mean = np.mean(test_scores, axis=1)\n",
    "test_std = np.std(test_scores, axis=1)\n",
    "\n",
    "plt.plot(param_range, train_mean, \n",
    "         color='blue', marker='o', \n",
    "         markersize=5, label='training accuracy')\n",
    "\n",
    "plt.fill_between(param_range, train_mean + train_std,\n",
    "                 train_mean - train_std, alpha=0.15,\n",
    "                 color='blue')\n",
    "\n",
    "plt.plot(param_range, test_mean, \n",
    "         color='green', linestyle='--', \n",
    "         marker='s', markersize=5, \n",
    "         label='validation accuracy')\n",
    "\n",
    "plt.fill_between(param_range, \n",
    "                 test_mean + test_std,\n",
    "                 test_mean - test_std, \n",
    "                 alpha=0.15, color='green')\n",
    "\n",
    "plt.grid()\n",
    "plt.xscale('log')\n",
    "plt.legend(loc='lower right')\n",
    "plt.xlabel('Parameter Gamma')\n",
    "plt.ylabel('Accuracy')\n",
    "plt.ylim([0.7, 1.0])\n",
    "plt.tight_layout()\n",
    "plt.show()"
   ]
  },
  {
   "cell_type": "markdown",
   "metadata": {},
   "source": [
    "# Grid search with greater gamma range \n",
    "\n",
    "above shows its around 0.01"
   ]
  },
  {
   "cell_type": "code",
   "execution_count": 42,
   "metadata": {},
   "outputs": [
    {
     "name": "stdout",
     "output_type": "stream",
     "text": [
      "0.882338985871\n",
      "{'clf__C': 10, 'clf__gamma': 0.01, 'clf__kernel': 'rbf'}\n"
     ]
    }
   ],
   "source": [
    "from sklearn.metrics import make_scorer, f1_score\n",
    "\n",
    "scorer = make_scorer(f1_score, pos_label=0)\n",
    "\n",
    "c_gamma_range = [0.01, 0.02, 0.095, 0.009, 0.03, 0.005, 0.1, 0.15, 10, 11, 20, 5]\n",
    "\n",
    "param_grid = [{'clf__C': c_gamma_range, \n",
    "               'clf__kernel': ['linear']},\n",
    "                 {'clf__C': c_gamma_range, \n",
    "                  'clf__gamma': c_gamma_range, \n",
    "                  'clf__kernel': ['rbf'],}]\n",
    "\n",
    "gs = GridSearchCV(estimator=pipe_svc, \n",
    "                                param_grid=param_grid, \n",
    "                                scoring=scorer, \n",
    "                                cv=num_folds)\n",
    "gs = gs.fit(X_train_p_s, y_train)\n",
    "print(gs.best_score_)\n",
    "print(gs.best_params_)\n",
    "\n",
    "#provides same results "
   ]
  },
  {
   "cell_type": "markdown",
   "metadata": {},
   "source": [
    "# K-Nearest Neighbour \n",
    "on X_train_p_s"
   ]
  },
  {
   "cell_type": "code",
   "execution_count": 49,
   "metadata": {},
   "outputs": [
    {
     "name": "stdout",
     "output_type": "stream",
     "text": [
      "--> Model Training Accuracy: 0.825 +/- 0.079\n",
      "--> Tuned Parameters Best Score:  0.858490566038\n",
      "--> Best Parameters: \n",
      " {'clf__n_neighbors': 29}\n"
     ]
    }
   ],
   "source": [
    "from sklearn.neighbors import KNeighborsClassifier\n",
    "\n",
    "pipe_knn = Pipeline([\n",
    "                     ('pca', PCA(n_components=8)),\n",
    "                     ('clf', KNeighborsClassifier())])\n",
    "            \n",
    "#Fit Pipeline to training Data\n",
    "pipe_knn.fit(X_train_p_s, y_train) \n",
    "\n",
    "scores = cross_val_score(estimator=pipe_knn, \n",
    "                         X=X_train_p_s, \n",
    "                         y=y_train, \n",
    "                         cv=num_folds,\n",
    "                         n_jobs=1)\n",
    "print('--> Model Training Accuracy: %.3f +/- %.3f' %(np.mean(scores), np.std(scores)))\n",
    "\n",
    "#Tune k \n",
    "\n",
    "param_range = range(1, 50)\n",
    "param_grid = [{'clf__n_neighbors': param_range}]\n",
    "\n",
    "\n",
    "# instantiate the grid\n",
    "grid = GridSearchCV(estimator=pipe_knn, \n",
    "                    param_grid=param_grid, \n",
    "                    cv=num_folds, \n",
    "                    scoring='accuracy')\n",
    "gs_knn = grid.fit(X_train_p_s, y_train)\n",
    "print('--> Tuned Parameters Best Score: ',gs_knn.best_score_)\n",
    "print('--> Best Parameters: \\n',gs_knn.best_params_)\n",
    "\n"
   ]
  },
  {
   "cell_type": "markdown",
   "metadata": {},
   "source": [
    "# evaluation with just K tuned"
   ]
  },
  {
   "cell_type": "code",
   "execution_count": 51,
   "metadata": {},
   "outputs": [
    {
     "name": "stdout",
     "output_type": "stream",
     "text": [
      "--> Final Model Training Accuracy: 0.859 +/- 0.102\n",
      "--> Final Accuracy on Test set: 0.79121\n",
      "0.791208791209\n",
      "[[44  3]\n",
      " [16 28]]\n",
      "             precision    recall  f1-score   support\n",
      "\n",
      "        0.0       0.73      0.94      0.82        47\n",
      "        1.0       0.90      0.64      0.75        44\n",
      "\n",
      "avg / total       0.82      0.79      0.79        91\n",
      "\n"
     ]
    }
   ],
   "source": [
    "#evalulate \n",
    "\n",
    "clf_knn = gs_knn.best_estimator_\n",
    "\n",
    "#final scores training \n",
    "clf_knn.fit(X_train_p_s, y_train)\n",
    "scores = cross_val_score(estimator=clf_knn,\n",
    "                         X=X_train_p_s,\n",
    "                         y=y_train,\n",
    "                         cv=num_folds,\n",
    "                         n_jobs=1)\n",
    "\n",
    "\n",
    "\n",
    "\n",
    "print('--> Final Model Training Accuracy: %.3f +/- %.3f' %(np.mean(scores), np.std(scores)))\n",
    "print('--> Final Accuracy on Test set: %.5f' % clf_knn.score(X_test_p_s, y_test))\n",
    "\n",
    "# futher evaluation metrics \n",
    "\n",
    "clf_knn.fit(X_train_p_s, y_train)\n",
    "y_pred = clf_knn.predict(X_test_p_s)\n",
    "\n",
    "print(accuracy_score(y_test, y_pred))\n",
    "print(confusion_matrix(y_test, y_pred))\n",
    "print(classification_report(y_test, y_pred))"
   ]
  },
  {
   "cell_type": "markdown",
   "metadata": {},
   "source": [
    "# prediction accuracy vs number of neighbours"
   ]
  },
  {
   "cell_type": "code",
   "execution_count": 54,
   "metadata": {},
   "outputs": [
    {
     "data": {
      "image/png": "[encoded data removed]",
      "text/plain": [
       "<matplotlib.figure.Figure at 0x215dde3e6d8>"
      ]
     },
     "metadata": {},
     "output_type": "display_data"
    }
   ],
   "source": [
    "from sklearn import neighbors\n",
    "\n",
    "def plotvector(Xtrain, ytrain, Xtest, ytest, weights):\n",
    "    results = []\n",
    "    \n",
    "    #Xtrain = XTrain[:, :2]\n",
    "    \n",
    "    for n in range(1, 40, 2):\n",
    "        pipe_knn = Pipeline([\n",
    "                     ('pca', PCA(n_components=8)),\n",
    "                     ('clf', KNeighborsClassifier(n))])\n",
    "        pipe_knn.fit(Xtrain, ytrain)\n",
    "        preds = pipe_knn.predict(Xtest)\n",
    "        accuracy = pipe_knn.score(Xtest, ytest)\n",
    "        results.append([n, accuracy])\n",
    " \n",
    "    results = np.array(results)\n",
    "    return(results)\n",
    "\n",
    "pltvector1 = plotvector(X_train_p_s, y_train, X_test_p_s, y_test, weights=\"uniform\")\n",
    "\n",
    "line1 = plt.plot(pltvector1[:,0], pltvector1[:,1])\n",
    "\n",
    "\n",
    "plt.legend(loc=3)\n",
    "plt.ylim(0.7, 1)\n",
    "plt.tight_layout()\n",
    "plt.ylabel('Accuracy')\n",
    "plt.xlabel('Number of Neighbours')\n",
    "plt.title(\"Accuracy with Increasing K\")\n",
    "plt.show()\n",
    "\n",
    "#is the best K parameter to have the highest accuracy"
   ]
  },
  {
   "cell_type": "markdown",
   "metadata": {},
   "source": [
    "# KNN Confusion matrix "
   ]
  },
  {
   "cell_type": "code",
   "execution_count": 55,
   "metadata": {},
   "outputs": [
    {
     "data": {
      "image/png": "[encoded data removed]",
      "text/plain": [
       "<matplotlib.figure.Figure at 0x215de1d7358>"
      ]
     },
     "metadata": {},
     "output_type": "display_data"
    }
   ],
   "source": [
    "clf_knn.fit(X_train_p_s, y_train)\n",
    "y_pred = clf_knn.predict(X_test_p_s)\n",
    "confmat = confusion_matrix(y_true=y_test, y_pred=y_pred)\n",
    "\n",
    "# figure\n",
    "fig, ax = plt.subplots(figsize=(2.5, 2.5))\n",
    "ax.matshow(confmat, cmap=plt.cm.Blues, alpha=0.3)\n",
    "for i in range(confmat.shape[0]):\n",
    "    for j in range(confmat.shape[1]):\n",
    "        ax.text(x=j, y=i, s=confmat[i, j], va='center', ha='center')\n",
    "\n",
    "plt.xlabel('predicted label')\n",
    "plt.ylabel('true label')\n",
    "\n",
    "plt.tight_layout()\n",
    "plt.show()"
   ]
  },
  {
   "cell_type": "markdown",
   "metadata": {},
   "source": [
    "# learning curve for KNN "
   ]
  },
  {
   "cell_type": "code",
   "execution_count": 118,
   "metadata": {},
   "outputs": [
    {
     "data": {
      "text/plain": [
       "<module 'matplotlib.pyplot' from 'C:\\\\Users\\\\Python\\\\Anaconda3\\\\lib\\\\site-packages\\\\matplotlib\\\\pyplot.py'>"
      ]
     },
     "execution_count": 118,
     "metadata": {},
     "output_type": "execute_result"
    },
    {
     "data": {
      "image/png": "[encoded data removed]",
      "text/plain": [
       "<matplotlib.figure.Figure at 0x215de775da0>"
      ]
     },
     "metadata": {},
     "output_type": "display_data"
    }
   ],
   "source": [
    "plot_learning_curve(clf_knn,'KNN_Learining_Curve', X_train_p_s, y_train, ylim=None, cv=num_folds, scoring='accuracy', obj_line=None,\n",
    "                        n_jobs=1, train_sizes=np.linspace(.2, 1.0, 5))"
   ]
  },
  {
   "cell_type": "markdown",
   "metadata": {},
   "source": [
    "# Extra KNN hyperparameter tuning \n",
    "\n",
    "including p, weight"
   ]
  },
  {
   "cell_type": "code",
   "execution_count": 70,
   "metadata": {},
   "outputs": [
    {
     "name": "stdout",
     "output_type": "stream",
     "text": [
      "Best Hyper Parameters:\n",
      " {'algorithm': 'auto', 'n_neighbors': 10, 'p': 3, 'weights': 'uniform'}\n"
     ]
    }
   ],
   "source": [
    "# Tune hyperparameters \n",
    "\n",
    "#don't work efficiently if use pipeline with PCA, instead use already PCA X_train\n",
    "\n",
    "model = KNeighborsClassifier()\n",
    "\n",
    "#Hyper Parameters Set\n",
    "param_range = range(1, 40)\n",
    "pmetric = range(1,4)\n",
    "params = {'n_neighbors':param_range,\n",
    "          'weights':['uniform', 'distance'],\n",
    "         'p': pmetric}\n",
    "\n",
    "#Making models with hyper parameters sets\n",
    "gridknn = GridSearchCV(model, param_grid=params, cv=3, \n",
    "                    scoring='accuracy')\n",
    "#Learning\n",
    "gridknn.fit(X_train_p_s_pca,y_train)\n",
    "#The best hyper parameters set\n",
    "print(\"Best Hyper Parameters:\\n\",gridknn.best_params_)"
   ]
  },
  {
   "cell_type": "markdown",
   "metadata": {},
   "source": [
    "# evaluation of extra KNN hypertuning "
   ]
  },
  {
   "cell_type": "code",
   "execution_count": 71,
   "metadata": {},
   "outputs": [
    {
     "name": "stdout",
     "output_type": "stream",
     "text": [
      "--> Final Model Training Accuracy: 0.840 +/- 0.062\n",
      "--> Final Accuracy on Test set: 0.79121\n",
      "0.791208791209\n",
      "[[43  4]\n",
      " [15 29]]\n",
      "             precision    recall  f1-score   support\n",
      "\n",
      "        0.0       0.74      0.91      0.82        47\n",
      "        1.0       0.88      0.66      0.75        44\n",
      "\n",
      "avg / total       0.81      0.79      0.79        91\n",
      "\n"
     ]
    }
   ],
   "source": [
    "#K_NN final model evaluation \n",
    "pipe_knn = Pipeline([\n",
    "                     ('pca', PCA(n_components=8)),\n",
    "                     ('clf', KNeighborsClassifier(algorithm='auto', n_neighbors= 10, p= 3, weights= 'uniform' ))])\n",
    "\n",
    "#Get Final Scores\n",
    "pipe_knn.fit(X_train_p_s, y_train)\n",
    "scores = cross_val_score(estimator=pipe_knn,\n",
    "                         X=X_train_p_s,\n",
    "                         y=y_train,\n",
    "                         cv=num_folds,\n",
    "                         n_jobs=1)\n",
    "print('--> Final Model Training Accuracy: %.3f +/- %.3f' %(np.mean(scores), np.std(scores)))\n",
    "\n",
    "print('--> Final Accuracy on Test set: %.5f' % pipe_knn.score(X_test_p_s,y_test))\n",
    "\n",
    "pipe_knn.fit(X_train_p_s, y_train)\n",
    "y_pred = pipe_knn.predict(X_test_p_s)\n",
    "\n",
    "print(accuracy_score(y_test, y_pred))\n",
    "print(confusion_matrix(y_test, y_pred))\n",
    "print(classification_report(y_test, y_pred))"
   ]
  },
  {
   "cell_type": "markdown",
   "metadata": {
    "collapsed": true
   },
   "source": [
    "# KNN (extra hypertuning) Confusion matrix "
   ]
  },
  {
   "cell_type": "code",
   "execution_count": 73,
   "metadata": {},
   "outputs": [
    {
     "data": {
      "image/png": "[encoded data removed]",
      "text/plain": [
       "<matplotlib.figure.Figure at 0x215de24e908>"
      ]
     },
     "metadata": {},
     "output_type": "display_data"
    }
   ],
   "source": [
    "pipe_knn.fit(X_train_p_s, y_train)\n",
    "y_pred = pipe_knn.predict(X_test_p_s)\n",
    "confmat = confusion_matrix(y_true=y_test, y_pred=y_pred)\n",
    "\n",
    "# figure\n",
    "fig, ax = plt.subplots(figsize=(2.5, 2.5))\n",
    "ax.matshow(confmat, cmap=plt.cm.Blues, alpha=0.3)\n",
    "for i in range(confmat.shape[0]):\n",
    "    for j in range(confmat.shape[1]):\n",
    "        ax.text(x=j, y=i, s=confmat[i, j], va='center', ha='center')\n",
    "\n",
    "plt.xlabel('predicted label')\n",
    "plt.ylabel('true label')\n",
    "\n",
    "plt.tight_layout()\n",
    "plt.show()"
   ]
  },
  {
   "cell_type": "markdown",
   "metadata": {},
   "source": [
    "# ROC curve "
   ]
  },
  {
   "cell_type": "code",
   "execution_count": 143,
   "metadata": {},
   "outputs": [
    {
     "data": {
      "image/png": "[encoded data removed]",
      "text/plain": [
       "<matplotlib.figure.Figure at 0x1e1fb222390>"
      ]
     },
     "metadata": {},
     "output_type": "display_data"
    }
   ],
   "source": [
    "from sklearn.metrics import roc_curve, auc\n",
    "from sklearn.metrics import roc_auc_score\n",
    "from scipy import interp\n",
    "\n",
    "fig = plt.figure(figsize=(8, 6))\n",
    "all_tpr = []\n",
    "\n",
    "for name, model in pipelines:\n",
    "      \n",
    "    model.fit(X_train_p_s, y_train)\n",
    "    \n",
    "    probas = model.predict_proba(X_test_p_s)\n",
    "    fpr, tpr, thresholds = roc_curve(y_test, probas[:, 1], pos_label=1)\n",
    "    roc_auc = auc(fpr, tpr)\n",
    "    current_auc = str('%.2f' %roc_auc)\n",
    "    \n",
    "    plt.plot(fpr, \n",
    "             tpr, \n",
    "             lw=1, \n",
    "             label= str(name + ' AUC: ' + current_auc))\n",
    "\n",
    "plt.plot([0, 1], \n",
    "         [0, 1], \n",
    "         linestyle='--', \n",
    "         color=(0.6, 0.6, 0.6), \n",
    "         label='random guessing')\n",
    "\n",
    "plt.plot([0, 0, 1], \n",
    "         [0, 1, 1], \n",
    "         lw=2, \n",
    "         linestyle=':', \n",
    "         color='black', \n",
    "         label='perfect performance')\n",
    "\n",
    "plt.xlim([-0.05, 1.05])\n",
    "plt.ylim([-0.05, 1.05])\n",
    "plt.xlabel('false positive rate')\n",
    "plt.ylabel('true positive rate')\n",
    "plt.title('Receiver Operator Characteristic')\n",
    "plt.legend(loc=\"lower right\")\n",
    "\n",
    "plt.tight_layout()\n",
    "plt.show()"
   ]
  },
  {
   "cell_type": "markdown",
   "metadata": {},
   "source": [
    "# Sensitivity analysis"
   ]
  },
  {
   "cell_type": "markdown",
   "metadata": {
    "collapsed": true
   },
   "source": [
    "# KNN "
   ]
  },
  {
   "cell_type": "code",
   "execution_count": 33,
   "metadata": {},
   "outputs": [
    {
     "name": "stdout",
     "output_type": "stream",
     "text": [
      "--> Final Model Training Accuracy: 0.825 +/- 0.079\n",
      "--> Final Accuracy on Test set: 0.78022\n",
      "0.78021978022\n",
      "[[40  7]\n",
      " [13 31]]\n",
      "             precision    recall  f1-score   support\n",
      "\n",
      "        0.0       0.75      0.85      0.80        47\n",
      "        1.0       0.82      0.70      0.76        44\n",
      "\n",
      "avg / total       0.78      0.78      0.78        91\n",
      "\n"
     ]
    }
   ],
   "source": [
    "#Default KNN  PS dataset \n",
    "\n",
    "pipe_knn = Pipeline([\n",
    "                     ('pca', PCA(n_components=8)),\n",
    "                     ('clf', KNeighborsClassifier())])\n",
    "\n",
    "pipe_knn.fit(X_train_p_s, y_train)\n",
    "scores = cross_val_score(estimator=pipe_knn,\n",
    "                         X=X_train_p_s,\n",
    "                         y=y_train,\n",
    "                         cv=num_folds,\n",
    "                         n_jobs=1)\n",
    "print('--> Final Model Training Accuracy: %.3f +/- %.3f' %(np.mean(scores), np.std(scores)))\n",
    "\n",
    "print('--> Final Accuracy on Test set: %.5f' % pipe_knn.score(X_test_p_s,y_test))\n",
    "\n",
    "pipe_knn.fit(X_train_p_s, y_train)\n",
    "y_pred = pipe_knn.predict(X_test_p_s)\n",
    "\n",
    "print(accuracy_score(y_test, y_pred))\n",
    "print(confusion_matrix(y_test, y_pred))\n",
    "print(classification_report(y_test, y_pred))"
   ]
  },
  {
   "cell_type": "code",
   "execution_count": 34,
   "metadata": {},
   "outputs": [
    {
     "name": "stdout",
     "output_type": "stream",
     "text": [
      "--> Final Model Training Accuracy: 0.813 +/- 0.089\n",
      "--> Final Accuracy on Test set: 0.74725\n",
      "0.747252747253\n",
      "[[41  6]\n",
      " [17 27]]\n",
      "             precision    recall  f1-score   support\n",
      "\n",
      "        0.0       0.71      0.87      0.78        47\n",
      "        1.0       0.82      0.61      0.70        44\n",
      "\n",
      "avg / total       0.76      0.75      0.74        91\n",
      "\n"
     ]
    }
   ],
   "source": [
    "#optimal KNN, PO dataset \n",
    "\n",
    "pipe_knn = Pipeline([\n",
    "                     ('pca', PCA(n_components=12)),\n",
    "                     ('clf', KNeighborsClassifier())])\n",
    "\n",
    "pipe_knn.fit(X_train_p, y_train)\n",
    "scores = cross_val_score(estimator=pipe_knn,\n",
    "                         X=X_train_p,\n",
    "                         y=y_train,\n",
    "                         cv=num_folds,\n",
    "                         n_jobs=1)\n",
    "print('--> Final Model Training Accuracy: %.3f +/- %.3f' %(np.mean(scores), np.std(scores)))\n",
    "\n",
    "print('--> Final Accuracy on Test set: %.5f' % pipe_knn.score(X_test_p,y_test))\n",
    "\n",
    "pipe_knn.fit(X_train_p, y_train)\n",
    "y_pred = pipe_knn.predict(X_test_p)\n",
    "\n",
    "print(accuracy_score(y_test, y_pred))\n",
    "print(confusion_matrix(y_test, y_pred))\n",
    "print(classification_report(y_test, y_pred))"
   ]
  },
  {
   "cell_type": "code",
   "execution_count": 123,
   "metadata": {},
   "outputs": [
    {
     "name": "stdout",
     "output_type": "stream",
     "text": [
      "--> Final Model Training Accuracy: 0.632 +/- 0.106\n",
      "--> Final Accuracy on Test set: 0.63736\n",
      "0.637362637363\n",
      "[[35 12]\n",
      " [21 23]]\n",
      "             precision    recall  f1-score   support\n",
      "\n",
      "        0.0       0.62      0.74      0.68        47\n",
      "        1.0       0.66      0.52      0.58        44\n",
      "\n",
      "avg / total       0.64      0.64      0.63        91\n",
      "\n"
     ]
    }
   ],
   "source": [
    "#optimal KNN, U dataset \n",
    "\n",
    "pipe_knn = Pipeline([\n",
    "                     ('clf', KNeighborsClassifier(n_neighbors=29))])\n",
    "\n",
    "pipe_knn.fit(X_train, y_train)\n",
    "scores = cross_val_score(estimator=pipe_knn,\n",
    "                         X=X_train,\n",
    "                         y=y_train,\n",
    "                         cv=num_folds,\n",
    "                         n_jobs=1)\n",
    "print('--> Final Model Training Accuracy: %.3f +/- %.3f' %(np.mean(scores), np.std(scores)))\n",
    "\n",
    "print('--> Final Accuracy on Test set: %.5f' % pipe_knn.score(X_test,y_test))\n",
    "\n",
    "pipe_knn.fit(X_train, y_train)\n",
    "y_pred = pipe_knn.predict(X_test)\n",
    "\n",
    "print(accuracy_score(y_test, y_pred))\n",
    "print(confusion_matrix(y_test, y_pred))\n",
    "print(classification_report(y_test, y_pred))"
   ]
  },
  {
   "cell_type": "markdown",
   "metadata": {
    "collapsed": true
   },
   "source": [
    "# SVM "
   ]
  },
  {
   "cell_type": "code",
   "execution_count": 39,
   "metadata": {},
   "outputs": [
    {
     "name": "stdout",
     "output_type": "stream",
     "text": [
      "--> Model Training Accuracy: 0.859 +/- 0.074\n",
      "--> Accuracy on Test set: 0.76923\n",
      "0.769230769231\n",
      "[[39  8]\n",
      " [13 31]]\n",
      "             precision    recall  f1-score   support\n",
      "\n",
      "        0.0       0.75      0.83      0.79        47\n",
      "        1.0       0.79      0.70      0.75        44\n",
      "\n",
      "avg / total       0.77      0.77      0.77        91\n",
      "\n"
     ]
    }
   ],
   "source": [
    "#using default parameters, on PS dataset \n",
    "\n",
    "pipe_svc = Pipeline([('pca', PCA(n_components=8)),('clf', SVC(probability =True, verbose=False))])\n",
    "\n",
    "#final scores training \n",
    "pipe_svc.fit(X_train_p_s, y_train)\n",
    "scores = cross_val_score(estimator=pipe_svc,\n",
    "                         X=X_train_p_s,\n",
    "                         y=y_train,\n",
    "                         cv=num_folds,\n",
    "                         n_jobs=1)\n",
    "\n",
    "\n",
    "\n",
    "\n",
    "print('--> Model Training Accuracy: %.3f +/- %.3f' %(np.mean(scores), np.std(scores)))\n",
    "print('--> Accuracy on Test set: %.5f' % pipe_svc.score(X_test_p_s, y_test))\n",
    "\n",
    "# futher evaluation metrics \n",
    "\n",
    "pipe_svc.fit(X_train_p_s, y_train)\n",
    "y_pred = pipe_svc.predict(X_test_p_s)\n",
    "\n",
    "print(accuracy_score(y_test, y_pred))\n",
    "print(confusion_matrix(y_test, y_pred))\n",
    "print(classification_report(y_test, y_pred))\n"
   ]
  },
  {
   "cell_type": "code",
   "execution_count": 41,
   "metadata": {},
   "outputs": [
    {
     "name": "stdout",
     "output_type": "stream",
     "text": [
      "--> Model Training Accuracy: 0.845 +/- 0.045\n",
      "--> Accuracy on Test set: 0.76923\n",
      "0.769230769231\n",
      "[[40  7]\n",
      " [14 30]]\n",
      "             precision    recall  f1-score   support\n",
      "\n",
      "        0.0       0.74      0.85      0.79        47\n",
      "        1.0       0.81      0.68      0.74        44\n",
      "\n",
      "avg / total       0.77      0.77      0.77        91\n",
      "\n"
     ]
    }
   ],
   "source": [
    "#dataset PO, optimal parameters \n",
    "pipe_svc = Pipeline([('clf', SVC(C =10, gamma= 0.01, kernel= 'rbf'))])\n",
    "\n",
    "#final scores training \n",
    "pipe_svc.fit(X_train_p, y_train)\n",
    "scores = cross_val_score(estimator=pipe_svc,\n",
    "                         X=X_train_p,\n",
    "                         y=y_train,\n",
    "                         cv=num_folds,\n",
    "                         n_jobs=1)\n",
    "\n",
    "\n",
    "\n",
    "\n",
    "print('--> Model Training Accuracy: %.3f +/- %.3f' %(np.mean(scores), np.std(scores)))\n",
    "print('--> Accuracy on Test set: %.5f' % pipe_svc.score(X_test_p, y_test))\n",
    "\n",
    "# futher evaluation metrics \n",
    "\n",
    "pipe_svc.fit(X_train_p, y_train)\n",
    "y_pred = pipe_svc.predict(X_test_p)\n",
    "\n",
    "print(accuracy_score(y_test, y_pred))\n",
    "print(confusion_matrix(y_test, y_pred))\n",
    "print(classification_report(y_test, y_pred))\n",
    "\n"
   ]
  },
  {
   "cell_type": "code",
   "execution_count": 40,
   "metadata": {},
   "outputs": [
    {
     "name": "stdout",
     "output_type": "stream",
     "text": [
      "--> Model Training Accuracy: 0.548 +/- 0.084\n",
      "--> Accuracy on Test set: 0.60440\n",
      "0.604395604396\n",
      "[[36 11]\n",
      " [25 19]]\n",
      "             precision    recall  f1-score   support\n",
      "\n",
      "        0.0       0.59      0.77      0.67        47\n",
      "        1.0       0.63      0.43      0.51        44\n",
      "\n",
      "avg / total       0.61      0.60      0.59        91\n",
      "\n"
     ]
    }
   ],
   "source": [
    "#dataset U, optimal parameters \n",
    "pipe_svc = Pipeline([('clf', SVC(C =10, gamma= 0.01, kernel= 'rbf'))])\n",
    "\n",
    "#final scores training \n",
    "pipe_svc.fit(X_train, y_train)\n",
    "scores = cross_val_score(estimator=pipe_svc,\n",
    "                         X=X_train,\n",
    "                         y=y_train,\n",
    "                         cv=num_folds,\n",
    "                         n_jobs=1)\n",
    "\n",
    "\n",
    "\n",
    "\n",
    "print('--> Model Training Accuracy: %.3f +/- %.3f' %(np.mean(scores), np.std(scores)))\n",
    "print('--> Accuracy on Test set: %.5f' % pipe_svc.score(X_test, y_test))\n",
    "\n",
    "# futher evaluation metrics \n",
    "\n",
    "pipe_svc.fit(X_train, y_train)\n",
    "y_pred = pipe_svc.predict(X_test)\n",
    "\n",
    "print(accuracy_score(y_test, y_pred))\n",
    "print(confusion_matrix(y_test, y_pred))\n",
    "print(classification_report(y_test, y_pred))\n"
   ]
  },
  {
   "cell_type": "markdown",
   "metadata": {},
   "source": [
    "# Dummy classifier \n",
    "on PS dataset "
   ]
  },
  {
   "cell_type": "code",
   "execution_count": 138,
   "metadata": {},
   "outputs": [
    {
     "name": "stdout",
     "output_type": "stream",
     "text": [
      "0.516483516484\n",
      "[[47  0]\n",
      " [44  0]]\n",
      "             precision    recall  f1-score   support\n",
      "\n",
      "        0.0       0.52      1.00      0.68        47\n",
      "        1.0       0.00      0.00      0.00        44\n",
      "\n",
      "avg / total       0.27      0.52      0.35        91\n",
      "\n"
     ]
    },
    {
     "name": "stderr",
     "output_type": "stream",
     "text": [
      "C:\\Users\\Python\\Anaconda3\\lib\\site-packages\\sklearn\\metrics\\classification.py:1135: UndefinedMetricWarning: Precision and F-score are ill-defined and being set to 0.0 in labels with no predicted samples.\n",
      "  'precision', 'predicted', average, warn_for)\n"
     ]
    }
   ],
   "source": [
    "from sklearn.dummy import DummyClassifier # for comparison \n",
    "from sklearn.cross_validation import cross_val_score\n",
    "\n",
    "models = []\n",
    "\n",
    "models.append(('Dummy', DummyClassifier(strategy='most_frequent')))\n",
    "\n",
    "\n",
    "\n",
    "#for cross validation 10 fold \n",
    "num_folds = 10\n",
    "\n",
    "num_instances = len(X_train_p_s)\n",
    "seed = 7\n",
    "scoring = 'accuracy'\n",
    "results = []\n",
    "names = []\n",
    "msg =str()\n",
    "\n",
    "for name, model in models:\n",
    "    cv_results = cross_val_score(model, X_train_p_s, y_train, cv=num_folds)\n",
    "    results.append(cv_results)\n",
    "    names.append(name)\n",
    "    msg = msg + \"%s: %f (%f)\" % (name, cv_results.mean(), cv_results.std()) + '\\n'\n",
    "\n",
    "    \n",
    "\n",
    "\n",
    "\n",
    "# futher evaluation metrics \n",
    "\n",
    "model.fit(X_train, y_train)\n",
    "y_pred = model.predict(X_test)\n",
    "\n",
    "print(accuracy_score(y_test, y_pred))\n",
    "print(confusion_matrix(y_test, y_pred))\n",
    "print(classification_report(y_test, y_pred))"
   ]
  },
  {
   "cell_type": "code",
   "execution_count": null,
   "metadata": {
    "collapsed": true
   },
   "outputs": [],
   "source": []
  }
 ],
 "metadata": {
  "kernelspec": {
   "display_name": "Python 3",
   "language": "python",
   "name": "python3"
  },
  "language_info": {
   "codemirror_mode": {
    "name": "ipython",
    "version": 3
   },
   "file_extension": ".py",
   "mimetype": "text/x-python",
   "name": "python",
   "nbconvert_exporter": "python",
   "pygments_lexer": "ipython3",
   "version": "3.6.3"
  }
 },
 "nbformat": 4,
 "nbformat_minor": 2
}
